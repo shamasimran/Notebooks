{
 "cells": [
  {
   "cell_type": "code",
   "execution_count": 0,
   "metadata": {
    "application/vnd.databricks.v1+cell": {
     "cellMetadata": {},
     "inputWidgets": {},
     "nuid": "ea694c53-d8f9-4261-bbd5-35117e95910a",
     "showTitle": false,
     "tableResultSettingsMap": {},
     "title": ""
    }
   },
   "outputs": [],
   "source": [
    "# ---------------------------------------------------------\n",
    "# Notebook: 24_notebook_widgets\n",
    "# Purpose: Learn how to parameterize notebooks using widgets\n",
    "# Topics Covered:\n",
    "#   - Text, Dropdown, Combobox, Multiselect widgets\n",
    "#   - Accessing widget values inside notebook\n",
    "#   - Passing widget values from jobs/notebook.run()\n",
    "#   - Practical use in ETL pipelines (dynamic table names, date ranges, configs)\n",
    "# ---------------------------------------------------------"
   ]
  }
 ],
 "metadata": {
  "application/vnd.databricks.v1+notebook": {
   "computePreferences": null,
   "dashboards": [],
   "environmentMetadata": {
    "base_environment": "",
    "environment_version": "2"
   },
   "inputWidgetPreferences": null,
   "language": "python",
   "notebookMetadata": {
    "pythonIndentUnit": 4
   },
   "notebookName": "23_notebook_widgets",
   "widgets": {}
  },
  "language_info": {
   "name": "python"
  }
 },
 "nbformat": 4,
 "nbformat_minor": 0
}
