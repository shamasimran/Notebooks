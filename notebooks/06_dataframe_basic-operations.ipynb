{
 "cells": [
  {
   "cell_type": "markdown",
   "metadata": {
    "application/vnd.databricks.v1+cell": {
     "cellMetadata": {
      "byteLimit": 2048000,
      "rowLimit": 10000
     },
     "inputWidgets": {},
     "nuid": "844088d7-a23f-480e-9cf4-0896e1f0cc59",
     "showTitle": false,
     "tableResultSettingsMap": {},
     "title": ""
    }
   },
   "source": [
    "- **Name:** 06_dataframe_basic-operations\n",
    "- **Author:** Shamas Imran\n",
    "- **Desciption:** Performing basic DataFrame operations\n",
    "- **Date:** 19-Aug-2025\n",
    "<!--\n",
    "REVISION HISTORY\n",
    "Version          Date        Author           Desciption\n",
    "01           19-Aug-2025   Shamas Imran       Selected columns and filtered rows  \n",
    "                                              Added new derived columns\n",
    "                                              Rename/Drp column for Dataframe\n",
    "                                              Apply sort/orderby  \n",
    "                                              Demonstrated basic aggregations  \n",
    "-->"
   ]
  },
  {
   "cell_type": "code",
   "execution_count": 0,
   "metadata": {
    "application/vnd.databricks.v1+cell": {
     "cellMetadata": {
      "byteLimit": 2048000,
      "rowLimit": 10000
     },
     "inputWidgets": {},
     "nuid": "de975541-a853-44e0-933f-06ee263b604b",
     "showTitle": false,
     "tableResultSettingsMap": {},
     "title": ""
    }
   },
   "outputs": [],
   "source": [
    "from pyspark.sql import SparkSession\n",
    "spark = SparkSession.builder.appName(\"DatapurProgram\").getOrCreate()"
   ]
  },
  {
   "cell_type": "code",
   "execution_count": 0,
   "metadata": {
    "application/vnd.databricks.v1+cell": {
     "cellMetadata": {
      "byteLimit": 2048000,
      "rowLimit": 10000
     },
     "inputWidgets": {},
     "nuid": "41653eda-9914-4ec0-9feb-e1ebac7f625a",
     "showTitle": false,
     "tableResultSettingsMap": {},
     "title": ""
    }
   },
   "outputs": [],
   "source": [
    "rootPath = \"/Volumes/datapurcatalog/default/datapurvolume/\"\n",
    "folderpath = rootPath + \"student.csv\"\n",
    "df_student = spark.read.option(\"header\", \"true\").csv(folderpath)\n",
    "print(\"CSV file contents:\")\n",
    "display(df_student)"
   ]
  },
  {
   "cell_type": "code",
   "execution_count": 0,
   "metadata": {
    "application/vnd.databricks.v1+cell": {
     "cellMetadata": {
      "byteLimit": 2048000,
      "rowLimit": 10000
     },
     "inputWidgets": {},
     "nuid": "f11c91a9-5267-4154-a8a0-c19ef70e9fab",
     "showTitle": false,
     "tableResultSettingsMap": {},
     "title": ""
    }
   },
   "outputs": [],
   "source": [
    "df_studentsubset = df_student.select(df_student.StudentID, df_student.StudentName, df_student.StudentAge.alias(\"Age\"))\n",
    "display(df_studentsubset)"
   ]
  },
  {
   "cell_type": "code",
   "execution_count": 0,
   "metadata": {
    "application/vnd.databricks.v1+cell": {
     "cellMetadata": {
      "byteLimit": 2048000,
      "rowLimit": 10000
     },
     "inputWidgets": {},
     "nuid": "93f7526b-10e6-4a23-aa53-73ff013fd893",
     "showTitle": false,
     "tableResultSettingsMap": {},
     "title": ""
    }
   },
   "outputs": [],
   "source": [
    "df_studentsubset.filter(df_studentsubset.Age > 30).show() # Filter rows"
   ]
  },
  {
   "cell_type": "code",
   "execution_count": 0,
   "metadata": {
    "application/vnd.databricks.v1+cell": {
     "cellMetadata": {
      "byteLimit": 2048000,
      "rowLimit": 10000
     },
     "inputWidgets": {},
     "nuid": "fd27ad42-185e-4e6d-b4cc-67039b359cc4",
     "showTitle": false,
     "tableResultSettingsMap": {},
     "title": ""
    }
   },
   "outputs": [],
   "source": [
    "from pyspark.sql.functions import monotonically_increasing_id\n",
    "\n",
    "df_studentsubset_renamed = df_studentsubset.withColumnRenamed(\"Age\", \"SolarAge\")\n",
    "\n",
    "df_studentFinal = (\n",
    "    df_studentsubset_renamed\n",
    "    .withColumn(\n",
    "        \"LunarAge\",\n",
    "        (\n",
    "            (\n",
    "                (df_studentsubset_renamed.SolarAge * 365) +\n",
    "                (df_studentsubset_renamed.SolarAge * 11)\n",
    "            ) / 365\n",
    "        ).cast(\"int\")\n",
    "    )\n",
    ")\n",
    "\n",
    "df_studentFinal = df_studentFinal.withColumn(\"row_id\", monotonically_increasing_id())\n",
    "\n",
    "display(df_studentFinal)"
   ]
  },
  {
   "cell_type": "code",
   "execution_count": 0,
   "metadata": {
    "application/vnd.databricks.v1+cell": {
     "cellMetadata": {
      "byteLimit": 2048000,
      "rowLimit": 10000
     },
     "inputWidgets": {},
     "nuid": "14b61354-b7b8-474f-9c43-7bff7e0638a1",
     "showTitle": false,
     "tableResultSettingsMap": {},
     "title": ""
    }
   },
   "outputs": [],
   "source": [
    "# Sort by Age (ascending - default)\n",
    "df_studentFinal = df_studentFinal.orderBy(\"StudentID\").show() # or desc()\n",
    "df_studentFinal = df_studentFinal.orderBy(\"StudentID\").desc().show()\n",
    "\n",
    "# Sort by StudentID and\n",
    "df_studentFinal = df_studentFinal.orderBy(\"StudentID\", \"LunarAge\").desc().show()"
   ]
  },
  {
   "cell_type": "code",
   "execution_count": 0,
   "metadata": {
    "application/vnd.databricks.v1+cell": {
     "cellMetadata": {
      "byteLimit": 2048000,
      "rowLimit": 10000
     },
     "inputWidgets": {},
     "nuid": "a96cf60b-a7a0-4030-ba80-0bc5094f2f07",
     "showTitle": false,
     "tableResultSettingsMap": {},
     "title": ""
    }
   },
   "outputs": [],
   "source": [
    "df_studentFinal = df_studentFinal.drop(\"SolarAge\")\n",
    "display(df_studentFinal)"
   ]
  }
 ],
 "metadata": {
  "application/vnd.databricks.v1+notebook": {
   "computePreferences": {
    "hardware": {
     "accelerator": null,
     "gpuPoolId": null,
     "memory": null
    }
   },
   "dashboards": [],
   "environmentMetadata": {
    "base_environment": "",
    "environment_version": "2"
   },
   "inputWidgetPreferences": null,
   "language": "python",
   "notebookMetadata": {
    "mostRecentlyExecutedCommandWithImplicitDF": {
     "commandId": 8218812668408036,
     "dataframes": [
      "_sqldf"
     ]
    },
    "pythonIndentUnit": 4
   },
   "notebookName": "06_dataframe_basic-operations",
   "widgets": {}
  },
  "language_info": {
   "name": "python"
  }
 },
 "nbformat": 4,
 "nbformat_minor": 0
}
