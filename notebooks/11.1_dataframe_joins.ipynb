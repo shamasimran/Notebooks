{
 "cells": [
  {
   "cell_type": "markdown",
   "metadata": {
    "application/vnd.databricks.v1+cell": {
     "cellMetadata": {
      "byteLimit": 2048000,
      "rowLimit": 10000
     },
     "inputWidgets": {},
     "nuid": "1128edb6-c3ff-4a88-b9ca-04f8ced1c20a",
     "showTitle": false,
     "tableResultSettingsMap": {},
     "title": ""
    }
   },
   "source": [
    "- **Name:** 001_Introduction\n",
    "- **Author:** Shamas Imran\n",
    "- **Desciption:** Implementing joins between dataframes"
   ]
  },
  {
   "cell_type": "code",
   "execution_count": 0,
   "metadata": {
    "application/vnd.databricks.v1+cell": {
     "cellMetadata": {
      "byteLimit": 2048000,
      "rowLimit": 10000
     },
     "inputWidgets": {},
     "nuid": "9ad18422-66d4-4070-a93f-fa42831c2973",
     "showTitle": false,
     "tableResultSettingsMap": {},
     "title": ""
    }
   },
   "outputs": [],
   "source": [
    "\n",
    "from pyspark.sql.types import *\n",
    "from datetime import date\n",
    "\n",
    "\n",
    "student_schema = StructType([\n",
    "    StructField('StudentID', IntegerType(), False),\n",
    "    StructField('StudentName', StringType(), True),\n",
    "    StructField('StudentAge', IntegerType(), True)\n",
    "])\n",
    "\n",
    "student_data = [\n",
    "        (1, \"Alice\", 34), \n",
    "        (2, \"Bob\", 45), \n",
    "        (3, \"Charlie\", 29),\n",
    "        (4, \"Shamas\", 40)\n",
    "        ]\n",
    "\n",
    "df_student = spark.createDataFrame(student_data, student_schema)\n",
    "\n",
    "\n",
    "course_schema = StructType([\n",
    "    StructField('CourseID', IntegerType(), False),\n",
    "    StructField('CourseName', StringType(), True),\n",
    "    StructField('CourseTitle', StringType(), True),\n",
    "])\n",
    "\n",
    "course_data = [\n",
    "        (1, \"Physics\", \"1111\"), \n",
    "        (2, \"Chemistry\", \"2222\"), \n",
    "        (3, \"English\", \"3333\"),\n",
    "        (4, \"Computer Science\", \"4444\")\n",
    "        ]\n",
    "\n",
    "df_course = spark.createDataFrame(course_data, course_schema)\n",
    "\n",
    "\n",
    "# Enrollment schema\n",
    "enrollment_schema = StructType([\n",
    "    StructField(\"EnrollmentID\", IntegerType(), False),\n",
    "    StructField(\"StudentID_FK\", IntegerType(), False),\n",
    "    StructField(\"CourseID_FK\", IntegerType(), False),\n",
    "    StructField(\"EnrollmentDate\", DateType(), True)\n",
    "])\n",
    "\n",
    "enrollment_data = [\n",
    "    (1, 1, 1, date(2023, 9, 1)),   # Alice -> Physics\n",
    "    (2, 2, 2, date(2023, 9, 2)),   # Bob -> Chemistry\n",
    "    (3, 4, 4, date(2023, 9, 4)),   # Shamas -> Computer Science\n",
    "    (4, 1, 2, date(2023, 9, 5)),   # Alice -> Chemistry\n",
    "]\n",
    "\n",
    "df_enrollment = spark.createDataFrame(enrollment_data, enrollment_schema)\n"
   ]
  },
  {
   "cell_type": "code",
   "execution_count": 0,
   "metadata": {
    "application/vnd.databricks.v1+cell": {
     "cellMetadata": {
      "byteLimit": 2048000,
      "rowLimit": 10000
     },
     "inputWidgets": {},
     "nuid": "6dd98fc3-5e3f-450b-9313-c435685d4a17",
     "showTitle": false,
     "tableResultSettingsMap": {},
     "title": ""
    }
   },
   "outputs": [],
   "source": [
    "# INNER JOIN: returns only students who are enrolled in a course, along with course details\n",
    "s = df_student.alias(\"s\")\n",
    "c = df_course.alias(\"c\")\n",
    "e = df_enrollment.alias(\"e\")\n",
    "\n",
    "df_inner = e.join(s, e.StudentID_FK == s.StudentID, \"inner\") \\\n",
    "            .join(c, e.CourseID_FK == c.CourseID, \"inner\")\n",
    "\n",
    "df_inner.select(\"e.EnrollmentID\", \"s.StudentName\", \"c.CourseName\", \"e.EnrollmentDate\").show()"
   ]
  },
  {
   "cell_type": "code",
   "execution_count": 0,
   "metadata": {
    "application/vnd.databricks.v1+cell": {
     "cellMetadata": {
      "byteLimit": 2048000,
      "rowLimit": 10000
     },
     "inputWidgets": {},
     "nuid": "5b734a5c-b8d0-432f-9035-7864e80ef5d4",
     "showTitle": false,
     "tableResultSettingsMap": {},
     "title": ""
    }
   },
   "outputs": [],
   "source": [
    "# LEFT JOIN: returns all students and their enrollments if available; students with no enrollment will show null for course\n",
    "s = df_student.alias(\"s\")\n",
    "c = df_course.alias(\"c\")\n",
    "e = df_enrollment.alias(\"e\")\n",
    "\n",
    "df_left = s.join(e, s.StudentID == e.StudentID_FK, \"left\") \\\n",
    "           .join(c, e.CourseID_FK == c.CourseID, \"left\")\n",
    "\n",
    "df_left.select(\"s.StudentName\", \"c.CourseName\", \"e.EnrollmentDate\").show()"
   ]
  },
  {
   "cell_type": "code",
   "execution_count": 0,
   "metadata": {
    "application/vnd.databricks.v1+cell": {
     "cellMetadata": {
      "byteLimit": 2048000,
      "rowLimit": 10000
     },
     "inputWidgets": {},
     "nuid": "ab59fcfe-fd30-4651-87cc-d2ed1bbb28e6",
     "showTitle": false,
     "tableResultSettingsMap": {},
     "title": ""
    }
   },
   "outputs": [],
   "source": [
    "# RIGHT JOIN: returns all enrollments; if a student is missing, StudentName will be null (hypothetical case)\n",
    "s = df_student.alias(\"s\")\n",
    "c = df_course.alias(\"c\")\n",
    "e = df_enrollment.alias(\"e\")\n",
    "\n",
    "df_right = s.join(e, s.StudentID == e.StudentID_FK, \"right\") \\\n",
    "            .join(c, e.CourseID_FK == c.CourseID, \"right\")\n",
    "\n",
    "df_right.select(\"e.EnrollmentID\", \"s.StudentName\", \"c.CourseName\", \"e.EnrollmentDate\").show()\n"
   ]
  },
  {
   "cell_type": "code",
   "execution_count": 0,
   "metadata": {
    "application/vnd.databricks.v1+cell": {
     "cellMetadata": {
      "byteLimit": 2048000,
      "rowLimit": 10000
     },
     "inputWidgets": {},
     "nuid": "fe01c5e4-f137-402d-9ae9-1fa36da51503",
     "showTitle": false,
     "tableResultSettingsMap": {},
     "title": ""
    }
   },
   "outputs": [],
   "source": [
    "s = df_student.alias(\"s\")\n",
    "c = df_course.alias(\"c\")\n",
    "e = df_enrollment.alias(\"e\")\n",
    "\n",
    "# FULL OUTER JOIN: returns all students and all enrollments, matching where possible; unmatched rows from either side show null\n",
    "df_full = s.join(e, s.StudentID == e.StudentID_FK, \"outer\")\n",
    "\n",
    "df_full.select(\"s.StudentName\", \"e.EnrollmentID\", \"e.EnrollmentDate\").show()"
   ]
  },
  {
   "cell_type": "code",
   "execution_count": 0,
   "metadata": {
    "application/vnd.databricks.v1+cell": {
     "cellMetadata": {
      "byteLimit": 2048000,
      "rowLimit": 10000
     },
     "inputWidgets": {},
     "nuid": "9a65495c-d0f1-424d-acba-73ad495bce7a",
     "showTitle": false,
     "tableResultSettingsMap": {},
     "title": ""
    }
   },
   "outputs": [],
   "source": [
    "s = df_student.alias(\"s\")\n",
    "c = df_course.alias(\"c\")\n",
    "e = df_enrollment.alias(\"e\")\n",
    "\n",
    "# CROSS JOIN: every student paired with every course (Cartesian product)\n",
    "df_cross = s.crossJoin(c)\n",
    "\n",
    "df_cross.select(\"s.StudentName\", \"c.CourseName\").show(10, truncate=False)\n"
   ]
  },
  {
   "cell_type": "code",
   "execution_count": 0,
   "metadata": {
    "application/vnd.databricks.v1+cell": {
     "cellMetadata": {
      "byteLimit": 2048000,
      "rowLimit": 10000
     },
     "inputWidgets": {},
     "nuid": "1da90417-bb34-496b-94b1-be7fd1455fa0",
     "showTitle": false,
     "tableResultSettingsMap": {},
     "title": ""
    }
   },
   "outputs": [],
   "source": [
    "s = df_student.alias(\"s\")\n",
    "c = df_course.alias(\"c\")\n",
    "e = df_enrollment.alias(\"e\")\n",
    "\n",
    "# LEFT SEMI JOIN: returns students who have at least one enrollment; only columns from left (student) are retained\n",
    "df_semi = s.join(e, s.StudentID == e.StudentID_FK, \"left_semi\")\n",
    "\n",
    "df_semi.select(\"s.StudentID\", \"s.StudentName\", \"s.StudentAge\").show()"
   ]
  },
  {
   "cell_type": "code",
   "execution_count": 0,
   "metadata": {
    "application/vnd.databricks.v1+cell": {
     "cellMetadata": {
      "byteLimit": 2048000,
      "rowLimit": 10000
     },
     "inputWidgets": {},
     "nuid": "74d5570f-1f54-4e1f-bcce-c905cc5d5dc4",
     "showTitle": false,
     "tableResultSettingsMap": {},
     "title": ""
    }
   },
   "outputs": [],
   "source": [
    "s = df_student.alias(\"s\")\n",
    "c = df_course.alias(\"c\")\n",
    "e = df_enrollment.alias(\"e\")\n",
    "\n",
    "# LEFT ANTI JOIN: returns students who are not enrolled in any course\n",
    "df_anti = s.join(e, s.StudentID == e.StudentID_FK, \"left_anti\")\n",
    "df_anti.select(\"s.StudentID\", \"s.StudentName\", \"s.StudentAge\").show()\n"
   ]
  }
 ],
 "metadata": {
  "application/vnd.databricks.v1+notebook": {
   "computePreferences": {
    "hardware": {
     "accelerator": null,
     "gpuPoolId": null,
     "memory": null
    }
   },
   "dashboards": [],
   "environmentMetadata": {
    "base_environment": "",
    "environment_version": "2"
   },
   "inputWidgetPreferences": null,
   "language": "python",
   "notebookMetadata": {
    "pythonIndentUnit": 4
   },
   "notebookName": "11.1_dataframe_joins",
   "widgets": {}
  },
  "language_info": {
   "name": "python"
  }
 },
 "nbformat": 4,
 "nbformat_minor": 0
}
