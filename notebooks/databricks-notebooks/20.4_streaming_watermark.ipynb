{
 "cells": [
  {
   "cell_type": "markdown",
   "metadata": {
    "application/vnd.databricks.v1+cell": {
     "cellMetadata": {
      "byteLimit": 2048000,
      "rowLimit": 10000
     },
     "inputWidgets": {},
     "nuid": "ea694c53-d8f9-4261-bbd5-35117e95910a",
     "showTitle": false,
     "tableResultSettingsMap": {},
     "title": ""
    }
   },
   "source": [
    "- **Name:** 20.4_streaming_watermark\n",
    "- **Author:** Shamas Imran\n",
    "- **Desciption:** Using watermarks to handle late arriving data in streams\n",
    "- **Date:** 19-Aug-2025\n",
    "<!--\n",
    "REVISION HISTORY\n",
    "Version          Date        Author           Desciption\n",
    "01           19-Aug-2025   Shamas Imran       Defined event time column for streaming  \n",
    "                                              Applied watermark for late data tolerance  \n",
    "                                              Combined with window operations  \n",
    "-->"
   ]
  },
  {
   "cell_type": "code",
   "execution_count": 0,
   "metadata": {
    "application/vnd.databricks.v1+cell": {
     "cellMetadata": {},
     "inputWidgets": {},
     "nuid": "5191a50f-214c-40be-8374-7d89face684c",
     "showTitle": false,
     "tableResultSettingsMap": {},
     "title": ""
    }
   },
   "outputs": [],
   "source": [
    "from pyspark.sql import SparkSession\n",
    "from pyspark.sql.types import StructType, StructField, IntegerType, StringType, TimestampType\n",
    "from pyspark.sql.functions import col, window"
   ]
  },
  {
   "cell_type": "code",
   "execution_count": 0,
   "metadata": {
    "application/vnd.databricks.v1+cell": {
     "cellMetadata": {},
     "inputWidgets": {},
     "nuid": "3ea92c0a-0dd3-4f4e-bcc6-dd41f2746c5a",
     "showTitle": false,
     "tableResultSettingsMap": {},
     "title": ""
    }
   },
   "outputs": [],
   "source": [
    "# ------------------------------------------------------------\n",
    "# 1) Spark Session\n",
    "# ------------------------------------------------------------\n",
    "spark = (\n",
    "    SparkSession.builder\n",
    "        .appName(\"Watermark_Drop_vs_Allow_Late_Data\")\n",
    "        .getOrCreate()\n",
    ")"
   ]
  },
  {
   "cell_type": "code",
   "execution_count": 0,
   "metadata": {
    "application/vnd.databricks.v1+cell": {
     "cellMetadata": {},
     "inputWidgets": {},
     "nuid": "873b95c9-9a56-40a6-bdc6-3d27e2002891",
     "showTitle": false,
     "tableResultSettingsMap": {},
     "title": ""
    }
   },
   "outputs": [],
   "source": [
    "# ------------------------------------------------------------\n",
    "# 2) Folder Paths\n",
    "# ------------------------------------------------------------\n",
    "inputPath       = \"/Volumes/datapurcatalog/default/datapurvolume/spark-streaming/csv_input\"\n",
    "checkpointPath  = \"/Volumes/datapurcatalog/default/datapurvolume/spark-streaming/checkpoints/watermark\"\n",
    "outputPath      = \"/Volumes/datapurcatalog/default/datapurvolume/spark-streaming/csv_output_watermark\""
   ]
  },
  {
   "cell_type": "code",
   "execution_count": 0,
   "metadata": {
    "application/vnd.databricks.v1+cell": {
     "cellMetadata": {},
     "inputWidgets": {},
     "nuid": "a8174408-faa4-41a5-8adb-42958b0afd3c",
     "showTitle": false,
     "tableResultSettingsMap": {},
     "title": ""
    }
   },
   "outputs": [],
   "source": [
    "# ------------------------------------------------------------\n",
    "# 3) Define Schema\n",
    "# ------------------------------------------------------------\n",
    "schema = StructType([\n",
    "    StructField(\"id\", IntegerType(), True),\n",
    "    StructField(\"name\", StringType(), True),\n",
    "    StructField(\"score\", IntegerType(), True),\n",
    "    StructField(\"event_time\", TimestampType(), True)\n",
    "])"
   ]
  },
  {
   "cell_type": "code",
   "execution_count": 0,
   "metadata": {
    "application/vnd.databricks.v1+cell": {
     "cellMetadata": {},
     "inputWidgets": {},
     "nuid": "8542ef3e-9f4d-40e7-b0ac-5d0ca563cd0e",
     "showTitle": false,
     "tableResultSettingsMap": {},
     "title": ""
    }
   },
   "outputs": [],
   "source": [
    "# ------------------------------------------------------------\n",
    "# 4) Create Streaming DataFrame\n",
    "# ------------------------------------------------------------\n",
    "df_stream = (\n",
    "    spark.readStream\n",
    "         .option(\"header\", \"true\")\n",
    "         .schema(schema)\n",
    "         .csv(inputPath)\n",
    ")\n",
    "\n",
    "# ------------------------------------------------------------\n",
    "# 5) Apply Watermark\n",
    "# ------------------------------------------------------------\n",
    "# Keep state for 10 minutes; any event older than max(event_time) - 10 minutes is considered late\n",
    "df_watermarked = df_stream.withWatermark(\"event_time\", \"1 minute\")"
   ]
  },
  {
   "cell_type": "code",
   "execution_count": 0,
   "metadata": {
    "application/vnd.databricks.v1+cell": {
     "cellMetadata": {},
     "inputWidgets": {},
     "nuid": "b4245c45-603a-4284-a43f-e8dbd4048f22",
     "showTitle": false,
     "tableResultSettingsMap": {},
     "title": ""
    }
   },
   "outputs": [],
   "source": [
    "# ------------------------------------------------------------\n",
    "# 6) Aggregation Example: Count scores per name\n",
    "# ------------------------------------------------------------\n",
    "# Stateful operation needed to demonstrate watermark behavior\n",
    "agg_df = (\n",
    "    df_watermarked\n",
    "        .groupBy(\"name\")\n",
    "        .count()\n",
    "        .orderBy(\"name\")\n",
    ")"
   ]
  },
  {
   "cell_type": "code",
   "execution_count": 0,
   "metadata": {
    "application/vnd.databricks.v1+cell": {
     "cellMetadata": {
      "byteLimit": 2048000,
      "rowLimit": 10000
     },
     "inputWidgets": {},
     "nuid": "5799f3f4-5e86-489a-ae6d-1e8bedf30813",
     "showTitle": false,
     "tableResultSettingsMap": {},
     "title": ""
    }
   },
   "outputs": [],
   "source": [
    "# ------------------------------------------------------------\n",
    "# 7) Write to Console\n",
    "# ------------------------------------------------------------\n",
    "outputPath = \"csv_output_watermark\"\n",
    "\n",
    "query = (\n",
    "    agg_df.writeStream\n",
    "          .format(\"delta\")                       # ✅ Delta table sink\n",
    "          .option(\"checkpointLocation\", checkpointPath)\n",
    "          .outputMode(\"complete\")                # required for aggregations\n",
    "          .trigger(processingTime=\"10 seconds\")  # micro-batch interval\n",
    "           .toTable(outputPath)\n",
    ")\n",
    "\n",
    "# ------------------------------------------------------------\n",
    "# 8) Wait for Completion\n",
    "# ------------------------------------------------------------\n",
    "query.awaitTermination()\n"
   ]
  },
  {
   "cell_type": "code",
   "execution_count": 0,
   "metadata": {
    "application/vnd.databricks.v1+cell": {
     "cellMetadata": {},
     "inputWidgets": {},
     "nuid": "73b7c786-6c76-4558-992d-ad3e79a45898",
     "showTitle": false,
     "tableResultSettingsMap": {},
     "title": ""
    }
   },
   "outputs": [],
   "source": [
    "id,name,score,event_time\n",
    "1,Ahmed,85,2025-08-18 10:00:00\n",
    "2,Ayesha,92,2025-08-18 10:00:05\n",
    "3,Ali,78,2025-08-18 10:00:08\n",
    "4,Fatima,88,2025-08-18 09:59:55\n",
    "5,Bilal,95,2025-08-18 09:58:45\n",
    "6,Usman,82,2025-08-18 10:02:10\n",
    "7,Zara,90,2025-08-18 10:00:03\n",
    "\n",
    "# Watermark = 1 minute\n",
    "# Row 1 → Ahmed → max_event_time = 10:00:00 → watermark = 09:59:00 → ✅ kept\n",
    "# Row 2 → Ayesha → max_event_time = 10:00:05 → watermark = 09:59:05 → ✅ kept\n",
    "# Row 3 → Ali → max_event_time = 10:00:08 → watermark = 09:59:08 → ✅ kept\n",
    "# Row 4 → Fatima → max_event_time = 10:00:08 → watermark = 09:59:08 → ✅ within 1-min watermark, kept\n",
    "# Row 5 → Bilal → max_event_time = 10:00:08 → watermark = 09:59:08 → ❌ too late, dropped\n",
    "# Row 6 → Usman → max_event_time = 10:02:10 → watermark = 10:01:10 → ✅ kept\n",
    "# Row 7 → Zara → max_event_time = 10:02:10 → watermark = 10:01:10 → ❌ late, dropped\n"
   ]
  }
 ],
 "metadata": {
  "application/vnd.databricks.v1+notebook": {
   "computePreferences": null,
   "dashboards": [],
   "environmentMetadata": {
    "base_environment": "",
    "environment_version": "2"
   },
   "inputWidgetPreferences": null,
   "language": "python",
   "notebookMetadata": {
    "pythonIndentUnit": 4
   },
   "notebookName": "20.4_streaming_watermark",
   "widgets": {}
  },
  "language_info": {
   "name": "python"
  }
 },
 "nbformat": 4,
 "nbformat_minor": 0
}
