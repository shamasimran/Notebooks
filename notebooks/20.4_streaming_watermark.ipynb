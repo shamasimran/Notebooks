{
 "cells": [
  {
   "cell_type": "markdown",
   "metadata": {
    "application/vnd.databricks.v1+cell": {
     "cellMetadata": {
      "byteLimit": 2048000,
      "rowLimit": 10000
     },
     "inputWidgets": {},
     "nuid": "ea694c53-d8f9-4261-bbd5-35117e95910a",
     "showTitle": false,
     "tableResultSettingsMap": {},
     "title": ""
    }
   },
   "source": [
    "- **Name:** 20.4_streaming_watermark\n",
    "- **Author:** Shamas Imran\n",
    "- **Desciption:** Using watermarks to handle late arriving data in streams\n",
    "- **Date:** 19-Aug-2025\n",
    "<!--\n",
    "REVISION HISTORY\n",
    "Version          Date        Author           Desciption\n",
    "01           19-Aug-2025   Shamas Imran       Defined event time column for streaming  \n",
    "                                              Applied watermark for late data tolerance  \n",
    "                                              Combined with window operations  \n",
    "-->"
   ]
  },
  {
   "cell_type": "code",
   "execution_count": 0,
   "metadata": {
    "application/vnd.databricks.v1+cell": {
     "cellMetadata": {
      "byteLimit": 2048000,
      "rowLimit": 10000
     },
     "inputWidgets": {},
     "nuid": "5799f3f4-5e86-489a-ae6d-1e8bedf30813",
     "showTitle": false,
     "tableResultSettingsMap": {},
     "title": ""
    }
   },
   "outputs": [],
   "source": [
    "from pyspark.sql import SparkSession\n",
    "from pyspark.sql.types import StructType, StructField, IntegerType, StringType, TimestampType\n",
    "from pyspark.sql.functions import col, window\n",
    "\n",
    "# ------------------------------------------------------------\n",
    "# 1) Spark Session\n",
    "# ------------------------------------------------------------\n",
    "spark = (\n",
    "    SparkSession.builder\n",
    "        .appName(\"Watermark_Drop_vs_Allow_Late_Data\")\n",
    "        .getOrCreate()\n",
    ")\n",
    "\n",
    "# ------------------------------------------------------------\n",
    "# 2) Folder Paths\n",
    "# ------------------------------------------------------------\n",
    "inputPath       = \"/Volumes/datapurcatalog/default/datapurvolume/spark-streaming/csv_input\"\n",
    "checkpointPath  = \"/Volumes/datapurcatalog/default/datapurvolume/spark-streaming/checkpoints/watermark\"\n",
    "outputPath      = \"/Volumes/datapurcatalog/default/datapurvolume/spark-streaming/csv_output_watermark\"\n",
    "\n",
    "# ------------------------------------------------------------\n",
    "# 3) Define Schema\n",
    "# ------------------------------------------------------------\n",
    "schema = StructType([\n",
    "    StructField(\"id\", IntegerType(), True),\n",
    "    StructField(\"name\", StringType(), True),\n",
    "    StructField(\"score\", IntegerType(), True),\n",
    "    StructField(\"event_time\", TimestampType(), True)\n",
    "])\n",
    "\n",
    "# ------------------------------------------------------------\n",
    "# 4) Create Streaming DataFrame\n",
    "# ------------------------------------------------------------\n",
    "df_stream = (\n",
    "    spark.readStream\n",
    "         .option(\"header\", \"true\")\n",
    "         .schema(schema)\n",
    "         .csv(inputPath)\n",
    ")\n",
    "\n",
    "# ------------------------------------------------------------\n",
    "# 5) Apply Watermark\n",
    "# ------------------------------------------------------------\n",
    "# Keep state for 10 minutes; any event older than max(event_time) - 10 minutes is considered late\n",
    "df_watermarked = df_stream.withWatermark(\"event_time\", \"10 minutes\")\n",
    "\n",
    "# ------------------------------------------------------------\n",
    "# 6) Aggregation Example: Count scores per name\n",
    "# ------------------------------------------------------------\n",
    "# Stateful operation needed to demonstrate watermark behavior\n",
    "agg_df = (\n",
    "    df_watermarked\n",
    "        .groupBy(\"name\")\n",
    "        .count()\n",
    "        .orderBy(\"name\")\n",
    ")\n",
    "\n",
    "# ------------------------------------------------------------\n",
    "# 7) Write to Console\n",
    "# ------------------------------------------------------------\n",
    "query = (\n",
    "    agg_df.writeStream\n",
    "          .format(\"console\")                         # print aggregated results\n",
    "          .option(\"checkpointLocation\", checkpointPath)\n",
    "          .outputMode(\"update\")                       # update mode required for stateful aggregation\n",
    "          .trigger(processingTime=\"30 seconds\")      # micro-batch interval\n",
    "          .start()\n",
    ")\n",
    "# Key Point: late data beyond watermark is dropped, within watermark is allowed\n",
    "\n",
    "# ------------------------------------------------------------\n",
    "# 8) Wait for Completion\n",
    "# ------------------------------------------------------------\n",
    "query.awaitTermination()\n"
   ]
  },
  {
   "cell_type": "code",
   "execution_count": 0,
   "metadata": {
    "application/vnd.databricks.v1+cell": {
     "cellMetadata": {},
     "inputWidgets": {},
     "nuid": "73b7c786-6c76-4558-992d-ad3e79a45898",
     "showTitle": false,
     "tableResultSettingsMap": {},
     "title": ""
    }
   },
   "outputs": [],
   "source": [
    "id,name,score,event_time\n",
    "1,John,85,2025-08-18 10:00:00\n",
    "2,Jane,92,2025-08-18 10:05:00\n",
    "3,Bob,78,2025-08-18 10:08:00\n",
    "4,Alice,88,2025-08-18 09:55:00     # late but within watermark (10 min)\n",
    "5,Charlie,95,2025-08-18 09:45:00   # too late (beyond 10 min watermark)\n",
    "6,David,82,2025-08-18 10:12:00\n",
    "7,Eva,90,2025-08-18 10:03:00"
   ]
  }
 ],
 "metadata": {
  "application/vnd.databricks.v1+notebook": {
   "computePreferences": null,
   "dashboards": [],
   "environmentMetadata": {
    "base_environment": "",
    "environment_version": "2"
   },
   "inputWidgetPreferences": null,
   "language": "python",
   "notebookMetadata": {
    "pythonIndentUnit": 4
   },
   "notebookName": "20.4_streaming_watermark",
   "widgets": {}
  },
  "language_info": {
   "name": "python"
  }
 },
 "nbformat": 4,
 "nbformat_minor": 0
}
