{
 "cells": [
  {
   "cell_type": "markdown",
   "metadata": {
    "application/vnd.databricks.v1+cell": {
     "cellMetadata": {
      "byteLimit": 2048000,
      "rowLimit": 10000
     },
     "inputWidgets": {},
     "nuid": "ea694c53-d8f9-4261-bbd5-35117e95910a",
     "showTitle": false,
     "tableResultSettingsMap": {},
     "title": ""
    }
   },
   "source": [
    "- **Name:** 20.5_streaming_aggregations\n",
    "- **Author:** Shamas Imran\n",
    "- **Desciption:** Performing aggregations in structured streaming\n",
    "- **Date:** 19-Aug-2025\n",
    "<!--\n",
    "REVISION HISTORY\n",
    "Version          Date        Author           Desciption\n",
    "01           19-Aug-2025   Shamas Imran       Applied groupBy aggregations on streams  \n",
    "                                              Used tumbling and sliding windows  \n",
    "                                              Demonstrated append vs update modes  \n",
    "-->"
   ]
  },
  {
   "cell_type": "code",
   "execution_count": 0,
   "metadata": {
    "application/vnd.databricks.v1+cell": {
     "cellMetadata": {},
     "inputWidgets": {},
     "nuid": "07aaccc2-951c-4b1a-8e21-815ed5f422cc",
     "showTitle": false,
     "tableResultSettingsMap": {},
     "title": ""
    }
   },
   "outputs": [],
   "source": [
    "from pyspark.sql import SparkSession\n",
    "from pyspark.sql.types import StructType, StructField, IntegerType, StringType, TimestampType\n",
    "from pyspark.sql.functions import col, window, session_window"
   ]
  },
  {
   "cell_type": "code",
   "execution_count": 0,
   "metadata": {
    "application/vnd.databricks.v1+cell": {
     "cellMetadata": {},
     "inputWidgets": {},
     "nuid": "73b0553c-3de3-49ba-b5ec-f5bd2e5a4c11",
     "showTitle": false,
     "tableResultSettingsMap": {},
     "title": ""
    }
   },
   "outputs": [],
   "source": [
    "# ------------------------------------------------------------\n",
    "# 1) Spark Session\n",
    "# ------------------------------------------------------------\n",
    "spark = (\n",
    "    SparkSession.builder\n",
    "        .appName(\"Aggregations_and_WindowedAggregations\")\n",
    "        .getOrCreate()\n",
    ")"
   ]
  },
  {
   "cell_type": "code",
   "execution_count": 0,
   "metadata": {
    "application/vnd.databricks.v1+cell": {
     "cellMetadata": {},
     "inputWidgets": {},
     "nuid": "929cae8f-65cf-466d-be90-6899315cf872",
     "showTitle": false,
     "tableResultSettingsMap": {},
     "title": ""
    }
   },
   "outputs": [],
   "source": [
    "# ------------------------------------------------------------\n",
    "# 2) Folder Paths\n",
    "# ------------------------------------------------------------\n",
    "inputPath       = \"/Volumes/datapurcatalog/default/datapurvolume/spark-streaming/csv_input\"\n",
    "checkpointPath  = \"/Volumes/datapurcatalog/default/datapurvolume/spark-streaming/checkpoints/aggregations\"\n",
    "outputPath      = \"/Volumes/datapurcatalog/default/datapurvolume/spark-streaming/csv_output_aggregations\""
   ]
  },
  {
   "cell_type": "code",
   "execution_count": 0,
   "metadata": {
    "application/vnd.databricks.v1+cell": {
     "cellMetadata": {},
     "inputWidgets": {},
     "nuid": "e4f5ee18-6f57-4f1a-909d-6e5df8b07c94",
     "showTitle": false,
     "tableResultSettingsMap": {},
     "title": ""
    }
   },
   "outputs": [],
   "source": [
    "# ------------------------------------------------------------\n",
    "# 3) Define Schema\n",
    "# ------------------------------------------------------------\n",
    "schema = StructType([\n",
    "    StructField(\"id\", IntegerType(), True),\n",
    "    StructField(\"name\", StringType(), True),\n",
    "    StructField(\"score\", IntegerType(), True),\n",
    "    StructField(\"event_time\", TimestampType(), True)\n",
    "])\n",
    "\n",
    "# ------------------------------------------------------------\n",
    "# 4) Create Streaming DataFrame\n",
    "# ------------------------------------------------------------\n",
    "df_stream = (\n",
    "    spark.readStream\n",
    "         .option(\"header\", \"true\")\n",
    "         .schema(schema)\n",
    "         .csv(inputPath)\n",
    ")"
   ]
  },
  {
   "cell_type": "code",
   "execution_count": 0,
   "metadata": {
    "application/vnd.databricks.v1+cell": {
     "cellMetadata": {},
     "inputWidgets": {},
     "nuid": "8a9c3bde-b5e2-4cfe-9071-272a98696f1b",
     "showTitle": false,
     "tableResultSettingsMap": {},
     "title": ""
    }
   },
   "outputs": [],
   "source": [
    "# ------------------------------------------------------------\n",
    "# 5) Aggregation WITHOUT Watermark\n",
    "# ------------------------------------------------------------\n",
    "# Stateful aggregation without watermark (state can grow indefinitely)\n",
    "agg_no_watermark = df_stream.groupBy(\"name\").count()\n",
    "\n",
    "agg_no_watermark_query = (\n",
    "    agg_no_watermark.writeStream\n",
    "                    .format(\"console\")\n",
    "                    .option(\"checkpointLocation\", checkpointPath + \"/no_watermark\")\n",
    "                    .outputMode(\"update\")\n",
    "                    .start()\n",
    ")\n",
    "\n",
    "# ------------------------------------------------------------\n",
    "# 6) Aggregation WITH Watermark\n",
    "# ------------------------------------------------------------\n",
    "# Keep state for 10 minutes; late events beyond 10 min are dropped\n",
    "df_watermarked = df_stream.withWatermark(\"event_time\", \"10 minutes\")\n",
    "\n",
    "agg_with_watermark = df_watermarked.groupBy(\"name\").count()\n",
    "\n",
    "agg_with_watermark_query = (\n",
    "    agg_with_watermark.writeStream\n",
    "                      .format(\"console\")\n",
    "                      .option(\"checkpointLocation\", checkpointPath + \"/with_watermark\")\n",
    "                      .outputMode(\"update\")\n",
    "                      .start()\n",
    ")"
   ]
  },
  {
   "cell_type": "code",
   "execution_count": 0,
   "metadata": {
    "application/vnd.databricks.v1+cell": {
     "cellMetadata": {},
     "inputWidgets": {},
     "nuid": "1f658e4d-f7b9-487f-bf94-3f19b4088620",
     "showTitle": false,
     "tableResultSettingsMap": {},
     "title": ""
    }
   },
   "outputs": [],
   "source": [
    "# ------------------------------------------------------------\n",
    "# 7) Tumbling Window Aggregation\n",
    "# ------------------------------------------------------------\n",
    "# Fixed-size, non-overlapping 5-minute windows\n",
    "tumbling_window_agg = (\n",
    "    df_watermarked.groupBy(window(col(\"event_time\"), \"5 minutes\"), col(\"name\"))\n",
    "                   .count()\n",
    "                   .orderBy(\"window\")\n",
    ")\n",
    "\n",
    "tumbling_window_query = (\n",
    "    tumbling_window_agg.writeStream\n",
    "                       .format(\"console\")\n",
    "                       .option(\"checkpointLocation\", checkpointPath + \"/tumbling_window\")\n",
    "                       .outputMode(\"update\")\n",
    "                       .start()\n",
    ")"
   ]
  },
  {
   "cell_type": "code",
   "execution_count": 0,
   "metadata": {
    "application/vnd.databricks.v1+cell": {
     "cellMetadata": {},
     "inputWidgets": {},
     "nuid": "0132e1be-51bc-48c9-bfc4-26c0c2485bc7",
     "showTitle": false,
     "tableResultSettingsMap": {},
     "title": ""
    }
   },
   "outputs": [],
   "source": [
    "# ------------------------------------------------------------\n",
    "# 8) Sliding Window Aggregation\n",
    "# ------------------------------------------------------------\n",
    "# Fixed-size 5-min windows, sliding every 1 minute\n",
    "sliding_window_agg = (\n",
    "    df_watermarked.groupBy(window(col(\"event_time\"), \"5 minutes\", \"1 minute\"), col(\"name\"))\n",
    "                   .count()\n",
    "                   .orderBy(\"window\")\n",
    ")\n",
    "\n",
    "sliding_window_query = (\n",
    "    sliding_window_agg.writeStream\n",
    "                      .format(\"console\")\n",
    "                      .option(\"checkpointLocation\", checkpointPath + \"/sliding_window\")\n",
    "                      .outputMode(\"update\")\n",
    "                      .start()\n",
    ")\n"
   ]
  },
  {
   "cell_type": "code",
   "execution_count": 0,
   "metadata": {
    "application/vnd.databricks.v1+cell": {
     "cellMetadata": {
      "byteLimit": 2048000,
      "rowLimit": 10000
     },
     "inputWidgets": {},
     "nuid": "5799f3f4-5e86-489a-ae6d-1e8bedf30813",
     "showTitle": false,
     "tableResultSettingsMap": {},
     "title": ""
    }
   },
   "outputs": [],
   "source": [
    "# ------------------------------------------------------------\n",
    "# 9) Session Window Aggregation\n",
    "# ------------------------------------------------------------\n",
    "# Dynamic window based on inactivity gap of 5 minutes\n",
    "session_window_agg = (\n",
    "    df_watermarked.groupBy(session_window(col(\"event_time\"), \"5 minutes\"), col(\"name\"))\n",
    "                   .count()\n",
    "                   .orderBy(\"session_window\")\n",
    ")\n",
    "\n",
    "session_window_query = (\n",
    "    session_window_agg.writeStream\n",
    "                      .format(\"console\")\n",
    "                      .option(\"checkpointLocation\", checkpointPath + \"/session_window\")\n",
    "                      .outputMode(\"update\")\n",
    "                      .start()\n",
    ")\n",
    "\n",
    "# ------------------------------------------------------------\n",
    "# 10) Wait for All Streams\n",
    "# ------------------------------------------------------------\n",
    "spark.streams.awaitAnyTermination()"
   ]
  },
  {
   "cell_type": "code",
   "execution_count": 0,
   "metadata": {
    "application/vnd.databricks.v1+cell": {
     "cellMetadata": {},
     "inputWidgets": {},
     "nuid": "73b7c786-6c76-4558-992d-ad3e79a45898",
     "showTitle": false,
     "tableResultSettingsMap": {},
     "title": ""
    }
   },
   "outputs": [],
   "source": [
    "id,name,score,event_time\n",
    "1,Ahsan,85,2025-08-18 10:00:00\n",
    "2,Sana,92,2025-08-18 10:01:00\n",
    "3,Ali,78,2025-08-18 10:02:00\n",
    "4,Ahsan,88,2025-08-18 10:03:00\n",
    "5,Sana,95,2025-08-18 10:04:00\n",
    "6,Ali,82,2025-08-18 10:06:00\n",
    "7,Ahsan,90,2025-08-18 10:07:00\n",
    "8,Sana,87,2025-08-18 10:09:00\n",
    "9,Ali,91,2025-08-18 10:10:00\n",
    "10,Ahsan,80,2025-08-18 09:50:00   # Late, within 10-min watermark\n",
    "11,Sana,85,2025-08-18 09:40:00    # Too late, will be dropped by watermark\n",
    "12,Ali,88,2025-08-18 10:12:00\n",
    "13,Ahsan,92,2025-08-18 10:14:00\n",
    "14,Sana,90,2025-08-18 10:15:00\n",
    "15,Ali,83,2025-08-18 10:18:00"
   ]
  }
 ],
 "metadata": {
  "application/vnd.databricks.v1+notebook": {
   "computePreferences": null,
   "dashboards": [],
   "environmentMetadata": {
    "base_environment": "",
    "environment_version": "2"
   },
   "inputWidgetPreferences": null,
   "language": "python",
   "notebookMetadata": {
    "pythonIndentUnit": 4
   },
   "notebookName": "20.5_streaming_aggregations",
   "widgets": {}
  },
  "language_info": {
   "name": "python"
  }
 },
 "nbformat": 4,
 "nbformat_minor": 0
}
