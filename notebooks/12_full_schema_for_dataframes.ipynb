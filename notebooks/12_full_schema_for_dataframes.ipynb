{
 "cells": [
  {
   "cell_type": "markdown",
   "metadata": {
    "application/vnd.databricks.v1+cell": {
     "cellMetadata": {
      "byteLimit": 2048000,
      "rowLimit": 10000
     },
     "inputWidgets": {},
     "nuid": "1128edb6-c3ff-4a88-b9ca-04f8ced1c20a",
     "showTitle": false,
     "tableResultSettingsMap": {},
     "title": ""
    }
   },
   "source": [
    "- **Name:** 001_Introduction\n",
    "- **Author:** Shamas Imran\n",
    "- **Desciption:** Implementing joins using sql which we implemeted using dataframe"
   ]
  },
  {
   "cell_type": "code",
   "execution_count": 0,
   "metadata": {
    "application/vnd.databricks.v1+cell": {
     "cellMetadata": {
      "byteLimit": 2048000,
      "rowLimit": 10000
     },
     "inputWidgets": {},
     "nuid": "9ad18422-66d4-4070-a93f-fa42831c2973",
     "showTitle": false,
     "tableResultSettingsMap": {},
     "title": ""
    }
   },
   "outputs": [],
   "source": [
    "from pyspark.sql.types import *\n",
    "from pyspark.sql import Row\n",
    "from datetime import date\n",
    "import random\n",
    "\n",
    "# -------------------------------\n",
    "# 1. Student DataFrame\n",
    "# -------------------------------\n",
    "student_schema = StructType([\n",
    "    StructField('StudentID', IntegerType(), False),\n",
    "    StructField('StudentName', StringType(), True),\n",
    "    StructField('StudentAge', IntegerType(), True)\n",
    "])\n",
    "\n",
    "student_data = [\n",
    "    (1, \"Alice\", 34), \n",
    "    (2, \"Bob\", 45), \n",
    "    (3, \"Charlie\", 29),\n",
    "    (4, \"Shamas\", 40)\n",
    "]\n",
    "\n",
    "df_student = spark.createDataFrame(student_data, student_schema)\n",
    "\n",
    "# -------------------------------\n",
    "# 2. Course DataFrame\n",
    "# -------------------------------\n",
    "course_schema = StructType([\n",
    "    StructField('CourseID', IntegerType(), False),\n",
    "    StructField('CourseName', StringType(), True),\n",
    "    StructField('CourseTitle', StringType(), True),\n",
    "])\n",
    "\n",
    "course_data = [\n",
    "    (1, \"Physics\", \"1111\"), \n",
    "    (2, \"Chemistry\", \"2222\"), \n",
    "    (3, \"English\", \"3333\"),\n",
    "    (4, \"Computer Science\", \"4444\")\n",
    "]\n",
    "\n",
    "df_course = spark.createDataFrame(course_data, course_schema)\n",
    "\n",
    "# -------------------------------\n",
    "# 3. Enrollment DataFrame\n",
    "# -------------------------------\n",
    "enrollment_schema = StructType([\n",
    "    StructField(\"EnrollmentID\", IntegerType(), False),\n",
    "    StructField(\"StudentID_FK\", IntegerType(), False),\n",
    "    StructField(\"CourseID_FK\", IntegerType(), False),\n",
    "    StructField(\"EnrollmentDate\", DateType(), True)\n",
    "])\n",
    "\n",
    "enrollment_data = [\n",
    "    (1, 1, 1, date(2023, 9, 1)),   # Alice -> Physics\n",
    "    (2, 2, 2, date(2023, 9, 2)),   # Bob -> Chemistry\n",
    "    (3, 4, 4, date(2023, 9, 4)),   # Shamas -> Computer Science\n",
    "    (4, 1, 2, date(2023, 9, 5)),   # Alice -> Chemistry\n",
    "]\n",
    "\n",
    "df_enrollment = spark.createDataFrame(enrollment_data, enrollment_schema)\n",
    "\n",
    "# -------------------------------\n",
    "# 4. Score DataFrame\n",
    "# -------------------------------\n",
    "semesters = [\"2023-Spring\", \"2023-Fall\", \"2024-Spring\", \"2024-Fall\", \"2025-Spring\"]\n",
    "score_data = []\n",
    "score_id = 1\n",
    "enrollment_ids = [row.EnrollmentID for row in df_enrollment.collect()]\n",
    "\n",
    "for enrollment_id in enrollment_ids:\n",
    "    selected_semesters = random.sample(semesters, k=random.randint(2, 4))\n",
    "    for sem in selected_semesters:\n",
    "        score_data.append(Row(\n",
    "            ScoreID=score_id,\n",
    "            EnrollmentID_FK=enrollment_id,\n",
    "            Semester=sem,\n",
    "            Score=random.randint(60, 100)\n",
    "        ))\n",
    "        score_id += 1\n",
    "\n",
    "score_schema = StructType([\n",
    "    StructField(\"ScoreID\", IntegerType(), False),\n",
    "    StructField(\"EnrollmentID_FK\", IntegerType(), False),\n",
    "    StructField(\"Semester\", StringType(), True),\n",
    "    StructField(\"Score\", IntegerType(), True)\n",
    "])\n",
    "\n",
    "df_score = spark.createDataFrame(score_data, schema=score_schema)"
   ]
  },
  {
   "cell_type": "markdown",
   "metadata": {
    "application/vnd.databricks.v1+cell": {
     "cellMetadata": {},
     "inputWidgets": {},
     "nuid": "bb726808-2c71-44c6-a3a3-c6e0ff7c5454",
     "showTitle": false,
     "tableResultSettingsMap": {},
     "title": ""
    }
   },
   "source": [
    "# Entity-Relationship Diagram (ERD)\n",
    "\n",
    "**Student**  \n",
    "`StudentID` (PK)  \n",
    "`StudentName`  \n",
    "`StudentAge`  \n",
    "\n",
    "**Enrollment**  \n",
    "`EnrollmentID` (PK)  \n",
    "`StudentID_FK` → Student.StudentID  \n",
    "`CourseID_FK` → Course.CourseID  \n",
    "`EnrollmentDate`  \n",
    "\n",
    "**Course**  \n",
    "`CourseID` (PK)  \n",
    "`CourseName`  \n",
    "`CourseTitle`  \n",
    "\n",
    "**Score**  \n",
    "`ScoreID` (PK)  \n",
    "`EnrollmentID_FK` → Enrollment.EnrollmentID  \n",
    "`Semester`  \n",
    "`Score`  \n",
    "\n",
    "---\n",
    "\n",
    "### Relationships\n",
    "\n",
    "- **Student 1 → * Enrollment**  \n",
    "- **Course 1 → * Enrollment**  \n",
    "- **Enrollment 1 → * Score**"
   ]
  }
 ],
 "metadata": {
  "application/vnd.databricks.v1+notebook": {
   "computePreferences": {
    "hardware": {
     "accelerator": null,
     "gpuPoolId": null,
     "memory": null
    }
   },
   "dashboards": [],
   "environmentMetadata": {
    "base_environment": "",
    "environment_version": "2"
   },
   "inputWidgetPreferences": null,
   "language": "python",
   "notebookMetadata": {
    "mostRecentlyExecutedCommandWithImplicitDF": {
     "commandId": 3223090135813926,
     "dataframes": [
      "_sqldf"
     ]
    },
    "pythonIndentUnit": 4
   },
   "notebookName": "12_full_schema_for_dataframes",
   "widgets": {}
  },
  "language_info": {
   "name": "python"
  }
 },
 "nbformat": 4,
 "nbformat_minor": 0
}
