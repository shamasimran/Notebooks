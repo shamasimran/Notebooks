{
 "cells": [
  {
   "cell_type": "code",
   "execution_count": 0,
   "metadata": {
    "application/vnd.databricks.v1+cell": {
     "cellMetadata": {
      "byteLimit": 2048000,
      "rowLimit": 10000
     },
     "inputWidgets": {},
     "nuid": "ea694c53-d8f9-4261-bbd5-35117e95910a",
     "showTitle": false,
     "tableResultSettingsMap": {},
     "title": ""
    }
   },
   "outputs": [],
   "source": [
    "# ---------------------------------------------------------\n",
    "# Notebook: 24_notebook_widgets\n",
    "# Purpose: Learn how to parameterize notebooks using widgets\n",
    "# Topics Covered:\n",
    "#  - Passing widget values from jobs/notebook.run()\n",
    "# - Accessing widget values inside notebook\n",
    "# - Returning value from child notebook\n",
    "# ---------------------------------------------------------"
   ]
  },
  {
   "cell_type": "code",
   "execution_count": 0,
   "metadata": {
    "application/vnd.databricks.v1+cell": {
     "cellMetadata": {
      "byteLimit": 2048000,
      "rowLimit": 10000
     },
     "inputWidgets": {},
     "nuid": "ff8045e2-0096-4334-95fc-93ce236f6dfb",
     "showTitle": false,
     "tableResultSettingsMap": {},
     "title": ""
    }
   },
   "outputs": [],
   "source": [
    "dbutils.widgets.removeAll()"
   ]
  },
  {
   "cell_type": "code",
   "execution_count": 0,
   "metadata": {
    "application/vnd.databricks.v1+cell": {
     "cellMetadata": {
      "byteLimit": 2048000,
      "rowLimit": 10000
     },
     "inputWidgets": {},
     "nuid": "8224a6ed-5353-445a-b0ce-7ee6c649674a",
     "showTitle": false,
     "tableResultSettingsMap": {},
     "title": ""
    }
   },
   "outputs": [],
   "source": [
    "def get_widget_or_default(widget_name: str, default_value: str = 'empty') -> str:\n",
    "    try:\n",
    "        value = dbutils.widgets.get(widget_name)\n",
    "        return value if value else default_value\n",
    "    except Exception:\n",
    "        return default_value"
   ]
  },
  {
   "cell_type": "code",
   "execution_count": 0,
   "metadata": {
    "application/vnd.databricks.v1+cell": {
     "cellMetadata": {
      "byteLimit": 2048000,
      "rowLimit": 10000
     },
     "inputWidgets": {},
     "nuid": "24ce2cac-42ef-495c-afbe-963a8aeb263d",
     "showTitle": false,
     "tableResultSettingsMap": {},
     "title": ""
    }
   },
   "outputs": [],
   "source": [
    "dbutils.widgets.text(\"widget_name\", \"\", \"Inout Control Name\")\n",
    "dbutils.widgets.text(\"widget_type\", \"\", \"Inout Control Type\")\n",
    "dbutils.widgets.text(\"widget_value\", \"\", \"Inout Control Value\")"
   ]
  },
  {
   "cell_type": "code",
   "execution_count": 0,
   "metadata": {
    "application/vnd.databricks.v1+cell": {
     "cellMetadata": {
      "byteLimit": 2048000,
      "rowLimit": 10000
     },
     "inputWidgets": {},
     "nuid": "c154ddd4-c5da-4b6b-9ae7-eca00b2eba12",
     "showTitle": false,
     "tableResultSettingsMap": {},
     "title": ""
    }
   },
   "outputs": [],
   "source": [
    "widget_name = get_widget_or_default(\"widget_name\", \"\")\n",
    "widget_type = get_widget_or_default(\"widget_type\", \"\")\n",
    "widget_value = get_widget_or_default(\"widget_value\", \"\")\n",
    "output_string = f\"Name: {widget_name}, Type: {widget_type}, Value: {widget_value}\"\n",
    "\n",
    "print(f\"widget_name: {widget_name}\")\n",
    "print(f\"widget_type: {widget_type}\")\n",
    "print(f\"widget_value: {widget_value}\")\n",
    "print(f\"output_string: {output_string}\")"
   ]
  },
  {
   "cell_type": "code",
   "execution_count": 0,
   "metadata": {
    "application/vnd.databricks.v1+cell": {
     "cellMetadata": {
      "byteLimit": 2048000,
      "rowLimit": 10000
     },
     "inputWidgets": {},
     "nuid": "25620d7c-9cb0-4877-9e80-ffb4e2cb5cb9",
     "showTitle": false,
     "tableResultSettingsMap": {},
     "title": ""
    }
   },
   "outputs": [],
   "source": [
    "dbutils.notebook.exit(output_string)"
   ]
  }
 ],
 "metadata": {
  "application/vnd.databricks.v1+notebook": {
   "computePreferences": null,
   "dashboards": [],
   "environmentMetadata": {
    "base_environment": "",
    "environment_version": "2"
   },
   "inputWidgetPreferences": null,
   "language": "python",
   "notebookMetadata": {
    "pythonIndentUnit": 4
   },
   "notebookName": "22.3_child_notebook",
   "widgets": {}
  },
  "language_info": {
   "name": "python"
  }
 },
 "nbformat": 4,
 "nbformat_minor": 0
}
