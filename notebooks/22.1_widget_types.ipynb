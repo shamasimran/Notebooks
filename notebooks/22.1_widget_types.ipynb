{
 "cells": [
  {
   "cell_type": "code",
   "execution_count": 0,
   "metadata": {
    "application/vnd.databricks.v1+cell": {
     "cellMetadata": {
      "byteLimit": 2048000,
      "rowLimit": 10000
     },
     "inputWidgets": {},
     "nuid": "ea694c53-d8f9-4261-bbd5-35117e95910a",
     "showTitle": false,
     "tableResultSettingsMap": {},
     "title": ""
    }
   },
   "outputs": [],
   "source": [
    "# ---------------------------------------------------------\n",
    "# Notebook: 24_notebook_widgets\n",
    "# Purpose: creating and accessing diffrent types of widgets\n",
    "# Topics Covered:\n",
    "#   - Text, Dropdown, Combobox, Multiselect widgets\n",
    "# ---------------------------------------------------------"
   ]
  },
  {
   "cell_type": "code",
   "execution_count": 0,
   "metadata": {
    "application/vnd.databricks.v1+cell": {
     "cellMetadata": {
      "byteLimit": 2048000,
      "rowLimit": 10000
     },
     "inputWidgets": {},
     "nuid": "ff8045e2-0096-4334-95fc-93ce236f6dfb",
     "showTitle": false,
     "tableResultSettingsMap": {},
     "title": ""
    }
   },
   "outputs": [],
   "source": [
    "dbutils.widgets.removeAll()"
   ]
  },
  {
   "cell_type": "code",
   "execution_count": 0,
   "metadata": {
    "application/vnd.databricks.v1+cell": {
     "cellMetadata": {
      "byteLimit": 2048000,
      "rowLimit": 10000
     },
     "inputWidgets": {},
     "nuid": "e839a0e1-f7fe-4f59-9f1c-264ed312c116",
     "showTitle": false,
     "tableResultSettingsMap": {},
     "title": ""
    }
   },
   "outputs": [],
   "source": [
    "# 1) Text Widget\n",
    "dbutils.widgets.text(\"txt_widget\", \"Imran\", \"Text Widget\")\n",
    "\n",
    "# # 2) Dropdown Widget\n",
    "dbutils.widgets.dropdown(\"dropdown_widget\", \"Shamas\", [\"Shamas\", \"Imran\", \"Muhammad\", \"Irfan\"], \"Dropdown Widget\")\n",
    "\n",
    "# # 3) Combobox Widget\n",
    "dbutils.widgets.combobox(\"combobox_widget\", \"Muhammad\", [\"Shamas\", \"Imran\", \"Muhammad\", \"Irfan\"], \"Combobox Widget\")\n",
    "\n",
    "# # 4) Multiselect Widget\n",
    "dbutils.widgets.multiselect(\"multiselect_widget\", \"Irfan\", [\"Shamas\", \"Imran\", \"Muhammad\", \"Irfan\"], \"Multiselect Widget\")\n",
    "\n",
    "# # 5) Date Widget\n",
    "dbutils.widgets.text(\"date_widget\", \"2025-08-18\", \"Date Widget (YYYY-MM-DD)\")  # Databricks doesn't have a native date picker"
   ]
  },
  {
   "cell_type": "code",
   "execution_count": 0,
   "metadata": {
    "application/vnd.databricks.v1+cell": {
     "cellMetadata": {
      "byteLimit": 2048000,
      "rowLimit": 10000
     },
     "inputWidgets": {},
     "nuid": "1dc21823-dc69-4395-a74c-201f0d0ad3bd",
     "showTitle": false,
     "tableResultSettingsMap": {},
     "title": ""
    }
   },
   "outputs": [],
   "source": [
    "def get_widget_or_default(widget_name: str, default_value: str = 'empty') -> str:\n",
    "    try:\n",
    "        value = dbutils.widgets.get(widget_name)\n",
    "        return value if value else default_value\n",
    "    except Exception:\n",
    "        return default_value\n"
   ]
  },
  {
   "cell_type": "code",
   "execution_count": 0,
   "metadata": {
    "application/vnd.databricks.v1+cell": {
     "cellMetadata": {
      "byteLimit": 2048000,
      "rowLimit": 10000
     },
     "inputWidgets": {},
     "nuid": "c154ddd4-c5da-4b6b-9ae7-eca00b2eba12",
     "showTitle": false,
     "tableResultSettingsMap": {},
     "title": ""
    }
   },
   "outputs": [],
   "source": [
    "print(get_widget_or_default(\"txt_widget\", \"NA\"))\n",
    "print(get_widget_or_default(\"dropdown_widget\", \"NA\"))\n",
    "print(get_widget_or_default(\"combobox_widget\", \"NA\"))\n",
    "print(get_widget_or_default(\"multiselect_widget\", \"NA\"))\n",
    "print(get_widget_or_default(\"date_widget\", \"NA\"))\n"
   ]
  }
 ],
 "metadata": {
  "application/vnd.databricks.v1+notebook": {
   "computePreferences": null,
   "dashboards": [],
   "environmentMetadata": {
    "base_environment": "",
    "environment_version": "2"
   },
   "inputWidgetPreferences": null,
   "language": "python",
   "notebookMetadata": {
    "pythonIndentUnit": 4
   },
   "notebookName": "22.1_widget_types",
   "widgets": {
    "combobox_widget": {
     "currentValue": "Muhammad",
     "nuid": "c445dcda-f2b1-4970-a5d9-5f951f8f2768",
     "typedWidgetInfo": {
      "autoCreated": false,
      "defaultValue": "Muhammad",
      "label": "Combobox Widget",
      "name": "combobox_widget",
      "options": {
       "widgetDisplayType": "Dropdown",
       "choices": [
        "Shamas",
        "imran",
        "Muhammad",
        "Irfan"
       ],
       "fixedDomain": false,
       "multiselect": false
      },
      "parameterDataType": "String"
     },
     "widgetInfo": {
      "widgetType": "combobox",
      "defaultValue": "Muhammad",
      "label": "Combobox Widget",
      "name": "combobox_widget",
      "options": {
       "widgetType": "dropdown",
       "autoCreated": false,
       "choices": [
        "Shamas",
        "imran",
        "Muhammad",
        "Irfan"
       ]
      }
     }
    },
    "date_widget": {
     "currentValue": "2025-08-18",
     "nuid": "dc146956-4f4a-4bab-8825-1dd14f1a3afa",
     "typedWidgetInfo": {
      "autoCreated": false,
      "defaultValue": "2025-08-18",
      "label": "Date Widget (YYYY-MM-DD)",
      "name": "date_widget",
      "options": {
       "widgetDisplayType": "Text",
       "validationRegex": null
      },
      "parameterDataType": "String"
     },
     "widgetInfo": {
      "widgetType": "text",
      "defaultValue": "2025-08-18",
      "label": "Date Widget (YYYY-MM-DD)",
      "name": "date_widget",
      "options": {
       "widgetType": "text",
       "autoCreated": false,
       "validationRegex": null
      }
     }
    },
    "dropdown_widget": {
     "currentValue": "Shamas",
     "nuid": "ef1606aa-9ce6-417c-941a-b85865640a42",
     "typedWidgetInfo": {
      "autoCreated": false,
      "defaultValue": "Shamas",
      "label": "Dropdown Widget",
      "name": "dropdown_widget",
      "options": {
       "widgetDisplayType": "Dropdown",
       "choices": [
        "Shamas",
        "imran",
        "Muhammad",
        "Irfan"
       ],
       "fixedDomain": true,
       "multiselect": false
      },
      "parameterDataType": "String"
     },
     "widgetInfo": {
      "widgetType": "dropdown",
      "defaultValue": "Shamas",
      "label": "Dropdown Widget",
      "name": "dropdown_widget",
      "options": {
       "widgetType": "dropdown",
       "autoCreated": false,
       "choices": [
        "Shamas",
        "imran",
        "Muhammad",
        "Irfan"
       ]
      }
     }
    },
    "multiselect_widget": {
     "currentValue": "Irfan",
     "nuid": "655bea63-e828-4158-86d7-6cc20b17f34d",
     "typedWidgetInfo": {
      "autoCreated": false,
      "defaultValue": "Irfan",
      "label": "Multiselect Widget",
      "name": "multiselect_widget",
      "options": {
       "widgetDisplayType": "Dropdown",
       "choices": [
        "Shamas",
        "imran",
        "Muhammad",
        "Irfan"
       ],
       "fixedDomain": true,
       "multiselect": true
      },
      "parameterDataType": "String"
     },
     "widgetInfo": {
      "widgetType": "multiselect",
      "defaultValue": "Irfan",
      "label": "Multiselect Widget",
      "name": "multiselect_widget",
      "options": {
       "widgetType": "dropdown",
       "autoCreated": false,
       "choices": [
        "Shamas",
        "imran",
        "Muhammad",
        "Irfan"
       ]
      }
     }
    },
    "txt_widget": {
     "currentValue": "Imran",
     "nuid": "e4b707b0-d9aa-4647-b8b6-63da285889ca",
     "typedWidgetInfo": {
      "autoCreated": false,
      "defaultValue": "Imran",
      "label": "Text Widget",
      "name": "txt_widget",
      "options": {
       "widgetDisplayType": "Text",
       "validationRegex": null
      },
      "parameterDataType": "String"
     },
     "widgetInfo": {
      "widgetType": "text",
      "defaultValue": "Imran",
      "label": "Text Widget",
      "name": "txt_widget",
      "options": {
       "widgetType": "text",
       "autoCreated": false,
       "validationRegex": null
      }
     }
    }
   }
  },
  "language_info": {
   "name": "python"
  }
 },
 "nbformat": 4,
 "nbformat_minor": 0
}
