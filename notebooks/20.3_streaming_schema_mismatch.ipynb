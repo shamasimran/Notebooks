{
 "cells": [
  {
   "cell_type": "markdown",
   "metadata": {
    "application/vnd.databricks.v1+cell": {
     "cellMetadata": {
      "byteLimit": 2048000,
      "rowLimit": 10000
     },
     "inputWidgets": {},
     "nuid": "ea694c53-d8f9-4261-bbd5-35117e95910a",
     "showTitle": false,
     "tableResultSettingsMap": {},
     "title": ""
    }
   },
   "source": [
    "- **Name:** 20.3_streaming_bad_data\n",
    "- **Author:** Shamas Imran\n",
    "- **Desciption:** Handling bad or corrupt data in streaming pipelines\n",
    "- **Date:** 19-Aug-2025\n",
    "<!--\n",
    "REVISION HISTORY\n",
    "Version          Date        Author           Desciption\n",
    "01           19-Aug-2025   Shamas Imran       Simulated bad records in streaming input  \n",
    "                                              handled schema mismatch  \n",
    "-->"
   ]
  },
  {
   "cell_type": "code",
   "execution_count": 0,
   "metadata": {
    "application/vnd.databricks.v1+cell": {
     "cellMetadata": {},
     "inputWidgets": {},
     "nuid": "87373cf7-940e-4365-957f-5c46b2dc1d60",
     "showTitle": false,
     "tableResultSettingsMap": {},
     "title": ""
    }
   },
   "outputs": [],
   "source": [
    "from pyspark.sql import SparkSession\n",
    "from pyspark.sql.types import StructType, StructField, IntegerType, StringType, TimestampType"
   ]
  },
  {
   "cell_type": "code",
   "execution_count": 0,
   "metadata": {
    "application/vnd.databricks.v1+cell": {
     "cellMetadata": {},
     "inputWidgets": {},
     "nuid": "ca768f66-a040-474a-846f-fe3fb1ef958c",
     "showTitle": false,
     "tableResultSettingsMap": {},
     "title": ""
    }
   },
   "outputs": [],
   "source": [
    "# ------------------------------------------------------------\n",
    "# 1) Spark Session\n",
    "# ------------------------------------------------------------\n",
    "spark = (\n",
    "    SparkSession.builder\n",
    "        .appName(\"CSV_Streaming_Error_Handling\")\n",
    "        .getOrCreate()\n",
    ")"
   ]
  },
  {
   "cell_type": "code",
   "execution_count": 0,
   "metadata": {
    "application/vnd.databricks.v1+cell": {
     "cellMetadata": {},
     "inputWidgets": {},
     "nuid": "3b27777d-1355-497e-a6d1-e8e3300d40bf",
     "showTitle": false,
     "tableResultSettingsMap": {},
     "title": ""
    }
   },
   "outputs": [],
   "source": [
    "# ------------------------------------------------------------\n",
    "# 2) Folder Paths (your provided Unity Catalog paths)\n",
    "# ------------------------------------------------------------\n",
    "inputPath       = \"/Volumes/datapurcatalog/default/datapurvolume/spark-streaming/csv_input\"\n",
    "checkpointPath  = \"/Volumes/datapurcatalog/default/datapurvolume/spark-streaming/checkpoints/csv_query\"\n",
    "outputPath      = \"/Volumes/datapurcatalog/default/datapurvolume/spark-streaming/csv_output\"\n",
    "badRecordsPath  = \"/Volumes/datapurcatalog/default/datapurvolume/spark-streaming/csv_bad_records\""
   ]
  },
  {
   "cell_type": "code",
   "execution_count": 0,
   "metadata": {
    "application/vnd.databricks.v1+cell": {
     "cellMetadata": {},
     "inputWidgets": {},
     "nuid": "59baaaac-c93c-4420-9ae0-372ec0dc6ab3",
     "showTitle": false,
     "tableResultSettingsMap": {},
     "title": ""
    }
   },
   "outputs": [],
   "source": [
    "# ------------------------------------------------------------\n",
    "# 3) Define Schema (expected columns)\n",
    "# ------------------------------------------------------------\n",
    "# NOTE: we add `_corrupt_record` column to capture invalid rows.\n",
    "schema = StructType([\n",
    "    StructField(\"id\", IntegerType(), True),         # should be integer\n",
    "    StructField(\"name\", StringType(), True),        # string field\n",
    "    StructField(\"score\", IntegerType(), True),      # should be integer\n",
    "    StructField(\"event_time\", TimestampType(), True), # event time (for future)\n",
    "    StructField(\"_corrupt_record\", StringType(), True)  # keeps the bad row\n",
    "])"
   ]
  },
  {
   "cell_type": "code",
   "execution_count": 0,
   "metadata": {
    "application/vnd.databricks.v1+cell": {
     "cellMetadata": {},
     "inputWidgets": {},
     "nuid": "47e4c3a3-0b2e-4ca1-944f-c1c8b9073769",
     "showTitle": false,
     "tableResultSettingsMap": {},
     "title": ""
    }
   },
   "outputs": [],
   "source": [
    "# ------------------------------------------------------------\n",
    "# 4) Create Streaming DataFrame with Error Handling\n",
    "# ------------------------------------------------------------\n",
    "# mode = PERMISSIVE => put invalid rows into _corrupt_record\n",
    "df_stream = (\n",
    "    spark.readStream\n",
    "         .option(\"header\", \"true\")                           # CSV has header\n",
    "         .schema(schema)                                     # enforce schema\n",
    "         .option(\"mode\", \"PERMISSIVE\")                       # keep bad rows\n",
    "         .option(\"columnNameOfCorruptRecord\", \"_corrupt_record\")\n",
    "         .csv(inputPath)                                     # folder to watch\n",
    ")\n",
    "\n",
    "# option(\"mode\" ============>\n",
    "# PERMISSIVE (default) → Keeps all rows; bad rows go into _corrupt_record column.\n",
    "# DROPMALFORMED → Skips bad rows completely (they are dropped).\n",
    "# FAILFAST → Stops the job immediately when a bad row is found.\n",
    "\n",
    "# ------------------------------------------------------------\n",
    "# 5) Separate Good vs Bad Records\n",
    "# ------------------------------------------------------------\n",
    "valid_rows = df_stream.filter(df_stream[\"_corrupt_record\"].isNull())\n",
    "bad_rows   = df_stream.filter(df_stream[\"_corrupt_record\"].isNotNull())"
   ]
  },
  {
   "cell_type": "code",
   "execution_count": 0,
   "metadata": {
    "application/vnd.databricks.v1+cell": {
     "cellMetadata": {
      "byteLimit": 2048000,
      "rowLimit": 10000
     },
     "inputWidgets": {},
     "nuid": "5799f3f4-5e86-489a-ae6d-1e8bedf30813",
     "showTitle": false,
     "tableResultSettingsMap": {},
     "title": ""
    }
   },
   "outputs": [],
   "source": [
    "# ------------------------------------------------------------\n",
    "# 6) Write Valid Records to Output Folder\n",
    "# ------------------------------------------------------------\n",
    "valid_query = (\n",
    "    valid_rows.writeStream\n",
    "              .format(\"csv\")                                 # write CSVs\n",
    "              .option(\"path\", outputPath)                    # output folder\n",
    "              .option(\"checkpointLocation\", checkpointPath + \"/valid\") # unique checkpoint\n",
    "              .outputMode(\"append\")                          # append = new rows only\n",
    "              .start()\n",
    ")\n",
    "\n",
    "# ------------------------------------------------------------\n",
    "# 7) Write Bad Records to Quarantine Folder\n",
    "# ------------------------------------------------------------\n",
    "bad_query = (\n",
    "    bad_rows.writeStream\n",
    "            .format(\"csv\")                                   # store bad rows separately\n",
    "            .option(\"path\", badRecordsPath)\n",
    "            .option(\"checkpointLocation\", checkpointPath + \"/bad\") # unique checkpoint\n",
    "            .outputMode(\"append\")\n",
    "            .start()\n",
    ")\n",
    "\n",
    "# ------------------------------------------------------------\n",
    "# 8) Wait for Streams to Finish\n",
    "# ------------------------------------------------------------\n",
    "# This keeps your job running until you stop it manually\n",
    "spark.streams.awaitAnyTermination()"
   ]
  },
  {
   "cell_type": "code",
   "execution_count": 0,
   "metadata": {
    "application/vnd.databricks.v1+cell": {
     "cellMetadata": {},
     "inputWidgets": {},
     "nuid": "f074663f-37fe-4b84-ad65-d906c412e82b",
     "showTitle": false,
     "tableResultSettingsMap": {},
     "title": ""
    }
   },
   "outputs": [],
   "source": [
    "Valid_data.csv\n",
    "id,name,score,event_time\n",
    "1,Ali,85,2025-08-18 10:00:00\n",
    "2,Sara,90,2025-08-18 10:05:00\n",
    "3,Omar,75,2025-08-18 10:10:00\n",
    "\n",
    "invalidd_ata.csv\n",
    "id,name,score,event_time,extra\n",
    "4,Ayesha,88,2025-08-18 10:15:00,unexpected"
   ]
  }
 ],
 "metadata": {
  "application/vnd.databricks.v1+notebook": {
   "computePreferences": null,
   "dashboards": [],
   "environmentMetadata": {
    "base_environment": "",
    "environment_version": "2"
   },
   "inputWidgetPreferences": null,
   "language": "python",
   "notebookMetadata": {
    "pythonIndentUnit": 4
   },
   "notebookName": "20.3_streaming_schema_mismatch",
   "widgets": {}
  },
  "language_info": {
   "name": "python"
  }
 },
 "nbformat": 4,
 "nbformat_minor": 0
}
