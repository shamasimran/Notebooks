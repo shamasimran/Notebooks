{
 "cells": [
  {
   "cell_type": "markdown",
   "metadata": {
    "application/vnd.databricks.v1+cell": {
     "cellMetadata": {
      "byteLimit": 2048000,
      "rowLimit": 10000
     },
     "inputWidgets": {},
     "nuid": "ea694c53-d8f9-4261-bbd5-35117e95910a",
     "showTitle": false,
     "tableResultSettingsMap": {},
     "title": ""
    }
   },
   "source": [
    "- **Name:** 22.2_notebook_passing_parameters\n",
    "- **Author:** Shamas Imran\n",
    "- **Desciption:** Passing parameters between Databricks notebooks\n",
    "- **Date:** 19-Aug-2025\n",
    "<!--\n",
    "REVISION HISTORY\n",
    "Version          Date        Author           Desciption\n",
    "01           19-Aug-2025   Shamas Imran       Used dbutils.notebook.run for parameter passing  \n",
    "                                              Defined defaults for parameters  \n",
    "                                              Demonstrated parent-child notebook execution  \n",
    "-->"
   ]
  },
  {
   "cell_type": "code",
   "execution_count": 0,
   "metadata": {
    "application/vnd.databricks.v1+cell": {
     "cellMetadata": {
      "byteLimit": 2048000,
      "rowLimit": 10000
     },
     "inputWidgets": {},
     "nuid": "368568c0-37d3-4398-bf0d-a78b96409fde",
     "showTitle": false,
     "tableResultSettingsMap": {},
     "title": ""
    }
   },
   "outputs": [],
   "source": [
    "child_notebook_path =  \"/Workspace/Users/shamas.imran@gmail.com/databricks-notebooks/notebooks/22.3_child_notebook\"\n",
    "\n",
    "# Passing parameters to child notebook\n",
    "params = {\n",
    "    \"widget_name\": \"widget_txt\",\n",
    "    \"widget_type\": \"txt\",\n",
    "    \"widget_value\": \"Shamas\"   \n",
    "}\n",
    "\n",
    "# Returns a string (can be empty) from the child notebook\n",
    "result = dbutils.notebook.run(child_notebook_path, 60, params)\n",
    "print(f\"Result returned from child notebook: {result}\")"
   ]
  },
  {
   "cell_type": "code",
   "execution_count": 0,
   "metadata": {
    "application/vnd.databricks.v1+cell": {
     "cellMetadata": {
      "byteLimit": 2048000,
      "rowLimit": 10000
     },
     "inputWidgets": {},
     "nuid": "75e7279a-cb3a-4594-a9fd-9aef037db7d1",
     "showTitle": false,
     "tableResultSettingsMap": {},
     "title": ""
    }
   },
   "outputs": [],
   "source": [
    "cell_type = \"dropdown\"\n",
    "cell_type = \"combobox\"\n",
    "cell_type = \"multiselect\"\n",
    "cell_type = \"date\"\n"
   ]
  }
 ],
 "metadata": {
  "application/vnd.databricks.v1+notebook": {
   "computePreferences": null,
   "dashboards": [],
   "environmentMetadata": {
    "base_environment": "",
    "environment_version": "2"
   },
   "inputWidgetPreferences": null,
   "language": "python",
   "notebookMetadata": {
    "pythonIndentUnit": 4
   },
   "notebookName": "22.2_notebook_passing_parameters",
   "widgets": {}
  },
  "language_info": {
   "name": "python"
  }
 },
 "nbformat": 4,
 "nbformat_minor": 0
}
