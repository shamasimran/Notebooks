{
 "cells": [
  {
   "cell_type": "code",
   "execution_count": 0,
   "metadata": {
    "application/vnd.databricks.v1+cell": {
     "cellMetadata": {},
     "inputWidgets": {},
     "nuid": "ea694c53-d8f9-4261-bbd5-35117e95910a",
     "showTitle": false,
     "tableResultSettingsMap": {},
     "title": ""
    }
   },
   "outputs": [],
   "source": [
    "# ---------------------------------------------------------\n",
    "# Notebook: 19_pyspark_udfs\n",
    "# Purpose: Learn how to extend PySpark with User Defined Functions\n",
    "# Topics Covered:\n",
    "#   - Regular UDFs (Python functions in Spark SQL)\n",
    "#   - Performance limitations of regular UDFs\n",
    "#   - Pandas UDFs (vectorized, Arrow-based)\n",
    "#   - Using UDFs in DataFrame transformations and SQL\n",
    "#   - Best practices and when to avoid UDFs\n",
    "# ---------------------------------------------------------\n"
   ]
  }
 ],
 "metadata": {
  "application/vnd.databricks.v1+notebook": {
   "computePreferences": null,
   "dashboards": [],
   "environmentMetadata": {
    "base_environment": "",
    "environment_version": "2"
   },
   "inputWidgetPreferences": null,
   "language": "python",
   "notebookMetadata": {
    "pythonIndentUnit": 4
   },
   "notebookName": "19_pyspark_udfs",
   "widgets": {}
  },
  "language_info": {
   "name": "python"
  }
 },
 "nbformat": 4,
 "nbformat_minor": 0
}
