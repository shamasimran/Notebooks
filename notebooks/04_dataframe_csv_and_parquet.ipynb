{
 "cells": [
  {
   "cell_type": "markdown",
   "metadata": {
    "application/vnd.databricks.v1+cell": {
     "cellMetadata": {},
     "inputWidgets": {},
     "nuid": "844088d7-a23f-480e-9cf4-0896e1f0cc59",
     "showTitle": false,
     "tableResultSettingsMap": {},
     "title": ""
    }
   },
   "source": [
    "- **Name:** 001_Introduction\n",
    "- **Author:** Shamas Imran\n",
    "- **Desciption:** Read/Write CSV and Parquet File in Unity Catalog"
   ]
  },
  {
   "cell_type": "code",
   "execution_count": 0,
   "metadata": {
    "application/vnd.databricks.v1+cell": {
     "cellMetadata": {},
     "inputWidgets": {},
     "nuid": "91eabdb6-41f2-4e2d-b136-069c2f32c1bc",
     "showTitle": false,
     "tableResultSettingsMap": {},
     "title": ""
    }
   },
   "outputs": [],
   "source": [
    "from pyspark.sql import SparkSession\n",
    "spark = SparkSession.builder.appName(\"FirstDatabricksProgram\").getOrCreate()"
   ]
  },
  {
   "cell_type": "code",
   "execution_count": 0,
   "metadata": {
    "application/vnd.databricks.v1+cell": {
     "cellMetadata": {},
     "inputWidgets": {},
     "nuid": "d0f772c4-0733-4257-b41e-765594a47686",
     "showTitle": false,
     "tableResultSettingsMap": {},
     "title": ""
    }
   },
   "outputs": [],
   "source": [
    "# 3. Write a Text File\n",
    "rootPath = \"/Volumes/datapurcatalog/default/datapurvolume/\"\n",
    "filepath = rootPath + \"ncr_ride_bookings.csv\"\n",
    "try:\n",
    "    df_csv = spark.read.csv(filepath, header=True, inferSchema=True)\n",
    "    print(\"CSV file contents:\")\n",
    "    display(df_csv)\n",
    "except Exception as e:\n",
    "    print(\"Upload 'ncr_ride_bookings.csv' to run this step.\")\n"
   ]
  },
  {
   "cell_type": "code",
   "execution_count": 0,
   "metadata": {
    "application/vnd.databricks.v1+cell": {
     "cellMetadata": {
      "byteLimit": 2048000,
      "rowLimit": 10000
     },
     "inputWidgets": {},
     "nuid": "9ea28974-92cd-42c4-9887-cbcb1efeda7b",
     "showTitle": false,
     "tableResultSettingsMap": {},
     "title": ""
    }
   },
   "outputs": [],
   "source": [
    "\n",
    "from pyspark.sql.types import *\n",
    "\n",
    "student_schema = StructType([\n",
    "    StructField('StudentID', IntegerType(), False),\n",
    "    StructField('StudentName', StringType(), True),\n",
    "    StructField('StudentAge', IntegerType(), True)\n",
    "])\n",
    "\n",
    "student_data = [\n",
    "        (1, \"Alice\", 34), \n",
    "        (2, \"Bob\", 45), \n",
    "        (3, \"Charlie\", 29),\n",
    "        (4, \"Shamas\", 40)\n",
    "        ]\n",
    "\n",
    "df_student = spark.createDataFrame(student_data, student_schema)\n",
    "df_student.show()"
   ]
  },
  {
   "cell_type": "code",
   "execution_count": 0,
   "metadata": {
    "application/vnd.databricks.v1+cell": {
     "cellMetadata": {
      "byteLimit": 2048000,
      "rowLimit": 10000
     },
     "inputWidgets": {},
     "nuid": "53b3a30c-220f-4790-b628-dfd7d95af7a2",
     "showTitle": false,
     "tableResultSettingsMap": {},
     "title": ""
    }
   },
   "outputs": [],
   "source": [
    "from pyspark.sql.types import *\n",
    "\n",
    "course_schema = StructType([\n",
    "    StructField('CourseID', IntegerType(), False),\n",
    "    StructField('CourseName', StringType(), True),\n",
    "    StructField('CourseTitle', StringType(), True),\n",
    "])\n",
    "\n",
    "course_data = [\n",
    "        (1, \"Physics\", \"1111\"), \n",
    "        (2, \"Chemistry\", \"2222\"), \n",
    "        (3, \"English\", \"3333\"),\n",
    "        (4, \"Computer Science\", \"4444\")\n",
    "        ]\n",
    "\n",
    "df_course = spark.createDataFrame(course_data, course_schema)\n",
    "df_course.show()"
   ]
  },
  {
   "cell_type": "code",
   "execution_count": 0,
   "metadata": {
    "application/vnd.databricks.v1+cell": {
     "cellMetadata": {
      "byteLimit": 2048000,
      "rowLimit": 10000
     },
     "inputWidgets": {},
     "nuid": "44e5b342-4f96-4476-9845-60cfca71c01f",
     "showTitle": false,
     "tableResultSettingsMap": {},
     "title": ""
    }
   },
   "outputs": [],
   "source": [
    "rootPath = \"/Volumes/datapurcatalog/default/datapurvolume/\"\n",
    "studentFilePath = rootPath + \"student.parquet\"\n",
    "courseFilePath = FilePath = rootPath + \"course.parquet\"\n",
    "\n",
    "df_student.write.mode(\"overwrite\").parquet(studentFilePath)\n",
    "print(\"Parquet file written to \" + studentFilePath)\n",
    "\n",
    "df_course.write.mode(\"overwrite\").parquet(courseFilePath)\n",
    "print(\"Parquet file written to \" + courseFilePath)\n"
   ]
  },
  {
   "cell_type": "code",
   "execution_count": 0,
   "metadata": {
    "application/vnd.databricks.v1+cell": {
     "cellMetadata": {
      "byteLimit": 2048000,
      "rowLimit": 10000
     },
     "inputWidgets": {},
     "nuid": "69093e15-bba8-458c-978b-c47111eaf2e1",
     "showTitle": false,
     "tableResultSettingsMap": {},
     "title": ""
    }
   },
   "outputs": [],
   "source": [
    "rootPath = \"/Volumes/datapurcatalog/default/datapurvolume/\"\n",
    "filepath = rootPath + \"student.parquet\"\n",
    "try:\n",
    "    df_parquet = spark.read.parquet(filepath, header=True, inferSchema=True)\n",
    "    print(\"parquet file contents:\")\n",
    "    display(df_parquet)\n",
    "except Exception as e:\n",
    "    print(\"Upload 'student.parquet' to run this step.\")"
   ]
  },
  {
   "cell_type": "code",
   "execution_count": 0,
   "metadata": {
    "application/vnd.databricks.v1+cell": {
     "cellMetadata": {
      "byteLimit": 2048000,
      "rowLimit": 10000
     },
     "inputWidgets": {},
     "nuid": "e9c2c2c8-8b2d-44cd-9b64-a047996fb3c1",
     "showTitle": false,
     "tableResultSettingsMap": {},
     "title": ""
    }
   },
   "outputs": [],
   "source": [
    "df_course.show()\n",
    "\n",
    "df_student.show()"
   ]
  },
  {
   "cell_type": "code",
   "execution_count": 0,
   "metadata": {
    "application/vnd.databricks.v1+cell": {
     "cellMetadata": {
      "byteLimit": 2048000,
      "rowLimit": 10000
     },
     "inputWidgets": {},
     "nuid": "c31935cf-6855-4611-b858-4fe88108ffc3",
     "showTitle": false,
     "tableResultSettingsMap": {},
     "title": ""
    }
   },
   "outputs": [],
   "source": [
    "rootPath = \"/Volumes/datapurcatalog/default/datapurvolume/\"\n",
    "studentFolderPath = rootPath + \"student.csv\"\n",
    "courseFolderPath = FilePath = rootPath + \"course\"\n",
    "\n",
    "df_student.coalesce(1) \\\n",
    "    .write.mode(\"overwrite\") \\\n",
    "    .option(\"header\", \"true\") \\\n",
    "    .csv(studentFolderPath)\n",
    "print(\"csv file written to \" + studentFolderPath)\n",
    "\n",
    "# df_student.option(\"header\", \"true\").mode(\"overwrite\").csv(courseFolderPath)\n",
    "# print(\"csv file written to \" + courseFolderPath)\n"
   ]
  },
  {
   "cell_type": "code",
   "execution_count": 0,
   "metadata": {
    "application/vnd.databricks.v1+cell": {
     "cellMetadata": {
      "byteLimit": 2048000,
      "rowLimit": 10000
     },
     "inputWidgets": {},
     "nuid": "5f8351ae-234c-4626-b980-d7a4a5ff49a6",
     "showTitle": false,
     "tableResultSettingsMap": {},
     "title": ""
    }
   },
   "outputs": [],
   "source": [
    "rootPath = \"/Volumes/datapurcatalog/default/datapurvolume/\"\n",
    "folderpath = rootPath + \"student.csv\"\n",
    "df_csv = spark.read.option(\"header\", \"true\").csv(folderpath)\n",
    "print(\"CSV file contents:\")\n",
    "display(df_csv)"
   ]
  }
 ],
 "metadata": {
  "application/vnd.databricks.v1+notebook": {
   "computePreferences": null,
   "dashboards": [],
   "environmentMetadata": {
    "base_environment": "",
    "environment_version": "2"
   },
   "inputWidgetPreferences": null,
   "language": "python",
   "notebookMetadata": {
    "mostRecentlyExecutedCommandWithImplicitDF": {
     "commandId": 8218812668408036,
     "dataframes": [
      "_sqldf"
     ]
    },
    "pythonIndentUnit": 4
   },
   "notebookName": "04_dataframe_csv_and_parquet",
   "widgets": {}
  },
  "language_info": {
   "name": "python"
  }
 },
 "nbformat": 4,
 "nbformat_minor": 0
}
