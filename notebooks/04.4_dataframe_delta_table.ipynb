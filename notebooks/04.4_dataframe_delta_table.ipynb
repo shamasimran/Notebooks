{
 "cells": [
  {
   "cell_type": "markdown",
   "metadata": {
    "application/vnd.databricks.v1+cell": {
     "cellMetadata": {
      "byteLimit": 2048000,
      "rowLimit": 10000
     },
     "inputWidgets": {},
     "nuid": "844088d7-a23f-480e-9cf4-0896e1f0cc59",
     "showTitle": false,
     "tableResultSettingsMap": {},
     "title": ""
    },
    "jupyter": {
     "outputs_hidden": true
    }
   },
   "source": [
    "- **Name:** 001_Introduction\n",
    "- **Author:** Shamas Imran\n",
    "- **Desciption:** Read/Write as Delta Table in Unity Catalog"
   ]
  },
  {
   "cell_type": "code",
   "execution_count": 0,
   "metadata": {
    "application/vnd.databricks.v1+cell": {
     "cellMetadata": {
      "byteLimit": 2048000,
      "rowLimit": 10000
     },
     "inputWidgets": {},
     "nuid": "91eabdb6-41f2-4e2d-b136-069c2f32c1bc",
     "showTitle": false,
     "tableResultSettingsMap": {},
     "title": ""
    }
   },
   "outputs": [],
   "source": [
    "from pyspark.sql import SparkSession\n",
    "spark = SparkSession.builder.appName(\"DatapurProgram\").getOrCreate()"
   ]
  },
  {
   "cell_type": "code",
   "execution_count": 0,
   "metadata": {
    "application/vnd.databricks.v1+cell": {
     "cellMetadata": {
      "byteLimit": 2048000,
      "rowLimit": 10000
     },
     "inputWidgets": {},
     "nuid": "3b681669-4ebc-4a97-b0c0-be142d7f7306",
     "showTitle": false,
     "tableResultSettingsMap": {},
     "title": ""
    }
   },
   "outputs": [],
   "source": [
    "# Root path in Unity Catalog volume\n",
    "rootPath = \"/Volumes/datapurcatalog/default/datapurvolume/\"\n",
    "deltaPath = rootPath + \"score_delta\""
   ]
  },
  {
   "cell_type": "code",
   "execution_count": 0,
   "metadata": {
    "application/vnd.databricks.v1+cell": {
     "cellMetadata": {
      "byteLimit": 2048000,
      "rowLimit": 10000
     },
     "inputWidgets": {},
     "nuid": "6bf67cbe-baff-464f-94eb-ae2320995f9f",
     "showTitle": false,
     "tableResultSettingsMap": {},
     "title": ""
    }
   },
   "outputs": [],
   "source": [
    "from pyspark.sql import Row\n",
    "import random\n",
    "\n",
    "# --------------------------------\n",
    "# 1. Generate Score Data (100+ rows)\n",
    "# --------------------------------\n",
    "semesters = [\"2023-Spring\", \"2023-Fall\", \"2024-Spring\", \"2024-Fall\", \"2025-Spring\"]\n",
    "\n",
    "score_data = []\n",
    "score_id = 1\n",
    "\n",
    "for enrollment_id in range(1, 21):   # 20 enrollments\n",
    "    for sem in random.sample(semesters, k=random.randint(2, 4)):  # Each enrollment has 2–4 semesters\n",
    "        score = random.randint(60, 100)  # Random score between 60 and 100\n",
    "        score_data.append(Row(\n",
    "            ScoreID=score_id,\n",
    "            EnrollmentID_FK=enrollment_id,\n",
    "            Semester=sem,\n",
    "            Score=score\n",
    "        ))\n",
    "        score_id += 1\n",
    "\n",
    "df_score = spark.createDataFrame(score_data)\n",
    "df_score.show()"
   ]
  },
  {
   "cell_type": "code",
   "execution_count": 0,
   "metadata": {
    "application/vnd.databricks.v1+cell": {
     "cellMetadata": {
      "byteLimit": 2048000,
      "rowLimit": 10000
     },
     "inputWidgets": {},
     "nuid": "3b0abba2-364e-42c4-9e89-a32f5d475c27",
     "showTitle": false,
     "tableResultSettingsMap": {},
     "title": ""
    }
   },
   "outputs": [],
   "source": [
    "df_score.show(20, truncate=False)\n",
    "print(f\"Total rows generated: {df_score.count()}\")"
   ]
  },
  {
   "cell_type": "code",
   "execution_count": 0,
   "metadata": {
    "application/vnd.databricks.v1+cell": {
     "cellMetadata": {
      "byteLimit": 2048000,
      "rowLimit": 10000
     },
     "inputWidgets": {},
     "nuid": "74919d23-2128-41de-a2ea-32ed98c7191b",
     "showTitle": false,
     "tableResultSettingsMap": {},
     "title": ""
    }
   },
   "outputs": [],
   "source": [
    "df_score.write.format(\"delta\").mode(\"overwrite\").save(deltaPath)"
   ]
  },
  {
   "cell_type": "code",
   "execution_count": 0,
   "metadata": {
    "application/vnd.databricks.v1+cell": {
     "cellMetadata": {
      "byteLimit": 2048000,
      "rowLimit": 10000
     },
     "inputWidgets": {},
     "nuid": "120fa2f4-daf6-4950-889a-10b4dc5a39a1",
     "showTitle": false,
     "tableResultSettingsMap": {},
     "title": ""
    }
   },
   "outputs": [],
   "source": [
    "\"\"\"\n",
    "Following code will not work with unity catalog \n",
    "We need absolute parth to create a table from delta folder.\n",
    "Instead, create a managed table directly in the next cell.\n",
    "\"\"\"\n",
    "\n",
    "dbutils.fs.rm(deltaPath, recurse=True)\n",
    "\n",
    "# spark.sql(f\"\"\"\n",
    "# CREATE TABLE IF NOT EXISTS datapurcatalog.default.score_table\n",
    "# USING DELTA\n",
    "# LOCATION '{deltaPath}'\n",
    "# \"\"\")"
   ]
  },
  {
   "cell_type": "code",
   "execution_count": 0,
   "metadata": {
    "application/vnd.databricks.v1+cell": {
     "cellMetadata": {
      "byteLimit": 2048000,
      "rowLimit": 10000
     },
     "inputWidgets": {},
     "nuid": "56f2217e-14af-467b-8fcb-24687d15784f",
     "showTitle": false,
     "tableResultSettingsMap": {},
     "title": ""
    }
   },
   "outputs": [],
   "source": [
    "df_score.write.format(\"delta\").mode(\"overwrite\") \\\n",
    "    .saveAsTable(\"datapurcatalog.default.score_table\")"
   ]
  },
  {
   "cell_type": "code",
   "execution_count": 0,
   "metadata": {
    "application/vnd.databricks.v1+cell": {
     "cellMetadata": {
      "byteLimit": 2048000,
      "rowLimit": 10000
     },
     "inputWidgets": {},
     "nuid": "96330b43-1592-4091-9fee-c9804fdb68cb",
     "showTitle": false,
     "tableResultSettingsMap": {},
     "title": ""
    }
   },
   "outputs": [],
   "source": [
    "\"\"\"\n",
    "query = \"SELECT Semester, COUNT(*) AS Exams, AVG(Score) AS AvgScore \" \\\n",
    "        \"FROM datapurcatalog.default.score_table \" \\\n",
    "        \"GROUP BY Semester \" \\\n",
    "        \"ORDER BY Semester\"\n",
    "\"\"\"\n",
    "# You can spread the string across multiple lines without using \\n: --> \"\"\"\n",
    "    \n",
    "query = \"\"\"\n",
    "SELECT Semester, \n",
    "       COUNT(*) AS Exams, \n",
    "       AVG(Score) AS AvgScore\n",
    "FROM datapurcatalog.default.score_table\n",
    "GROUP BY Semester\n",
    "ORDER BY Semester\n",
    "\"\"\"\n",
    "\n",
    "df_result = spark.sql(query)\n",
    "df_result.show()"
   ]
  },
  {
   "cell_type": "code",
   "execution_count": 0,
   "metadata": {
    "application/vnd.databricks.v1+cell": {
     "cellMetadata": {
      "byteLimit": 2048000,
      "implicitDf": true,
      "rowLimit": 10000
     },
     "inputWidgets": {},
     "nuid": "36ed6f54-9720-4e08-8a5d-61078dac1766",
     "showTitle": false,
     "tableResultSettingsMap": {},
     "title": ""
    }
   },
   "outputs": [],
   "source": [
    "%sql\n",
    "SELECT Semester, COUNT(*) AS Exams, AVG(Score) AS AvgScore\n",
    "FROM datapurcatalog.default.score_table\n",
    "GROUP BY Semester\n",
    "ORDER BY Semester"
   ]
  },
  {
   "cell_type": "code",
   "execution_count": 0,
   "metadata": {
    "application/vnd.databricks.v1+cell": {
     "cellMetadata": {
      "byteLimit": 2048000,
      "implicitDf": true,
      "rowLimit": 10000
     },
     "inputWidgets": {},
     "nuid": "26c4be8e-4e4f-4176-863e-bd7d13fecb91",
     "showTitle": false,
     "tableResultSettingsMap": {},
     "title": ""
    }
   },
   "outputs": [],
   "source": [
    "%sql\n",
    "DESCRIBE HISTORY datapurcatalog.default.score_table;"
   ]
  },
  {
   "cell_type": "code",
   "execution_count": 0,
   "metadata": {
    "application/vnd.databricks.v1+cell": {
     "cellMetadata": {
      "byteLimit": 2048000,
      "implicitDf": true,
      "rowLimit": 10000
     },
     "inputWidgets": {},
     "nuid": "7d035878-3ea9-4a04-88f7-e7133c5c155a",
     "showTitle": false,
     "tableResultSettingsMap": {},
     "title": ""
    }
   },
   "outputs": [],
   "source": [
    "%sql\n",
    "UPDATE datapurcatalog.default.score_table\n",
    "SET Score = Score + 5\n",
    "WHERE Semester = 'Spring2024';"
   ]
  },
  {
   "cell_type": "code",
   "execution_count": 0,
   "metadata": {
    "application/vnd.databricks.v1+cell": {
     "cellMetadata": {
      "byteLimit": 2048000,
      "implicitDf": true,
      "rowLimit": 10000
     },
     "inputWidgets": {},
     "nuid": "020e9c23-874e-40cc-ae0a-d02991b11f20",
     "showTitle": false,
     "tableResultSettingsMap": {},
     "title": ""
    }
   },
   "outputs": [],
   "source": [
    "%sql\n",
    "SELECT * FROM datapurcatalog.default.score_table VERSION AS OF 0;\n",
    "\n",
    "-- SELECT * FROM datapurcatalog.default.score_table TIMESTAMP AS OF '2025-08-16T10:00:00';"
   ]
  },
  {
   "cell_type": "code",
   "execution_count": 0,
   "metadata": {
    "application/vnd.databricks.v1+cell": {
     "cellMetadata": {
      "byteLimit": 2048000,
      "implicitDf": true,
      "rowLimit": 10000
     },
     "inputWidgets": {},
     "nuid": "f5076070-aad4-4cc1-ad38-3f253269583f",
     "showTitle": false,
     "tableResultSettingsMap": {},
     "title": ""
    }
   },
   "outputs": [],
   "source": [
    "%sql\n",
    "\n",
    "-- RESTORE TABLE datapurcatalog.default.score_table TO VERSION AS OF 0;\n",
    "\n",
    "DROP TABLE IF EXISTS datapurcatalog.default.score_table;"
   ]
  }
 ],
 "metadata": {
  "application/vnd.databricks.v1+notebook": {
   "computePreferences": null,
   "dashboards": [],
   "environmentMetadata": {
    "base_environment": "",
    "environment_version": "2"
   },
   "inputWidgetPreferences": null,
   "language": "python",
   "notebookMetadata": {
    "mostRecentlyExecutedCommandWithImplicitDF": {
     "commandId": 8215539264126517,
     "dataframes": [
      "_sqldf"
     ]
    },
    "pythonIndentUnit": 4
   },
   "notebookName": "04.4_dataframe_delta_table",
   "widgets": {}
  },
  "language_info": {
   "name": "python"
  }
 },
 "nbformat": 4,
 "nbformat_minor": 0
}
