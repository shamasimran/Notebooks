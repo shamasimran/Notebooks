{
 "cells": [
  {
   "cell_type": "markdown",
   "metadata": {
    "application/vnd.databricks.v1+cell": {
     "cellMetadata": {
      "byteLimit": 2048000,
      "rowLimit": 10000
     },
     "inputWidgets": {},
     "nuid": "1128edb6-c3ff-4a88-b9ca-04f8ced1c20a",
     "showTitle": false,
     "tableResultSettingsMap": {},
     "title": ""
    }
   },
   "source": [
    "- **Name:** 11.2_sql_joins\n",
    "- **Author:** Shamas Imran\n",
    "- **Desciption:** SQL-style joins using Spark SQL queries\n",
    "- **Date:** 19-Aug-2025\n",
    "<!--\n",
    "REVISION HISTORY\n",
    "Version          Date        Author           Desciption\n",
    "01           19-Aug-2025   Shamas Imran       Executed inner, left, right joins in SQL  \n",
    "                                              Registered DataFrames as temp views  \n",
    "                                              Verified SQL join outputs  \n",
    "-->"
   ]
  },
  {
   "cell_type": "code",
   "execution_count": 0,
   "metadata": {
    "application/vnd.databricks.v1+cell": {
     "cellMetadata": {
      "byteLimit": 2048000,
      "rowLimit": 10000
     },
     "inputWidgets": {},
     "nuid": "9ad18422-66d4-4070-a93f-fa42831c2973",
     "showTitle": false,
     "tableResultSettingsMap": {},
     "title": ""
    }
   },
   "outputs": [],
   "source": [
    "\n",
    "from pyspark.sql.types import *\n",
    "from datetime import date\n",
    "\n",
    "\n",
    "student_schema = StructType([\n",
    "    StructField('StudentID', IntegerType(), False),\n",
    "    StructField('StudentName', StringType(), True),\n",
    "    StructField('StudentAge', IntegerType(), True)\n",
    "])\n",
    "\n",
    "student_data = [\n",
    "        (1, \"Alice\", 34), \n",
    "        (2, \"Bob\", 45), \n",
    "        (3, \"Charlie\", 29),\n",
    "        (4, \"Shamas\", 40)\n",
    "        ]\n",
    "\n",
    "df_student = spark.createDataFrame(student_data, student_schema)\n",
    "\n",
    "\n",
    "course_schema = StructType([\n",
    "    StructField('CourseID', IntegerType(), False),\n",
    "    StructField('CourseName', StringType(), True),\n",
    "    StructField('CourseTitle', StringType(), True),\n",
    "])\n",
    "\n",
    "course_data = [\n",
    "        (1, \"Physics\", \"1111\"), \n",
    "        (2, \"Chemistry\", \"2222\"), \n",
    "        (3, \"English\", \"3333\"),\n",
    "        (4, \"Computer Science\", \"4444\")\n",
    "        ]\n",
    "\n",
    "df_course = spark.createDataFrame(course_data, course_schema)\n",
    "\n",
    "\n",
    "# Enrollment schema\n",
    "enrollment_schema = StructType([\n",
    "    StructField(\"EnrollmentID\", IntegerType(), False),\n",
    "    StructField(\"StudentID_FK\", IntegerType(), False),\n",
    "    StructField(\"CourseID_FK\", IntegerType(), False),\n",
    "    StructField(\"EnrollmentDate\", DateType(), True)\n",
    "])\n",
    "\n",
    "enrollment_data = [\n",
    "    (1, 1, 1, date(2023, 9, 1)),   # Alice -> Physics\n",
    "    (2, 2, 2, date(2023, 9, 2)),   # Bob -> Chemistry\n",
    "    (3, 4, 4, date(2023, 9, 4)),   # Shamas -> Computer Science\n",
    "    (4, 1, 2, date(2023, 9, 5)),   # Alice -> Chemistry\n",
    "]\n",
    "\n",
    "df_enrollment = spark.createDataFrame(enrollment_data, enrollment_schema)\n"
   ]
  },
  {
   "cell_type": "code",
   "execution_count": 0,
   "metadata": {
    "application/vnd.databricks.v1+cell": {
     "cellMetadata": {
      "byteLimit": 2048000,
      "rowLimit": 10000
     },
     "inputWidgets": {},
     "nuid": "16492a74-52fa-4c76-b710-408953cc89ef",
     "showTitle": false,
     "tableResultSettingsMap": {},
     "title": ""
    }
   },
   "outputs": [],
   "source": [
    "# Create temp views for SQL queries\n",
    "df_student.createOrReplaceTempView(\"student_temp\")\n",
    "df_course.createOrReplaceTempView(\"course_temp\")\n",
    "df_enrollment.createOrReplaceTempView(\"enrollment_temp\")"
   ]
  },
  {
   "cell_type": "code",
   "execution_count": 0,
   "metadata": {
    "application/vnd.databricks.v1+cell": {
     "cellMetadata": {
      "byteLimit": 2048000,
      "implicitDf": true,
      "rowLimit": 10000
     },
     "inputWidgets": {},
     "nuid": "6dd98fc3-5e3f-450b-9313-c435685d4a17",
     "showTitle": false,
     "tableResultSettingsMap": {},
     "title": ""
    }
   },
   "outputs": [],
   "source": [
    "%sql\n",
    "-- INNER JOIN: returns only students who are enrolled in a course, along with course details\n",
    "SELECT e.EnrollmentID, s.StudentName, c.CourseName, e.EnrollmentDate\n",
    "FROM enrollment_temp e\n",
    "INNER JOIN student_temp s\n",
    "    ON e.StudentID_FK = s.StudentID\n",
    "INNER JOIN course_temp c\n",
    "    ON e.CourseID_FK = c.CourseID;\n"
   ]
  },
  {
   "cell_type": "code",
   "execution_count": 0,
   "metadata": {
    "application/vnd.databricks.v1+cell": {
     "cellMetadata": {
      "byteLimit": 2048000,
      "implicitDf": true,
      "rowLimit": 10000
     },
     "inputWidgets": {},
     "nuid": "5b734a5c-b8d0-432f-9035-7864e80ef5d4",
     "showTitle": false,
     "tableResultSettingsMap": {},
     "title": ""
    }
   },
   "outputs": [],
   "source": [
    "%sql\n",
    "-- LEFT JOIN: returns all students and their enrollments if available; students with no enrollment will show null for course\n",
    "SELECT s.StudentName, c.CourseName, e.EnrollmentDate\n",
    "FROM student_temp s\n",
    "LEFT JOIN enrollment_temp e\n",
    "    ON s.StudentID = e.StudentID_FK\n",
    "LEFT JOIN course_temp c\n",
    "    ON e.CourseID_FK = c.CourseID;"
   ]
  },
  {
   "cell_type": "code",
   "execution_count": 0,
   "metadata": {
    "application/vnd.databricks.v1+cell": {
     "cellMetadata": {
      "byteLimit": 2048000,
      "implicitDf": true,
      "rowLimit": 10000
     },
     "inputWidgets": {},
     "nuid": "ab59fcfe-fd30-4651-87cc-d2ed1bbb28e6",
     "showTitle": false,
     "tableResultSettingsMap": {},
     "title": ""
    }
   },
   "outputs": [],
   "source": [
    "%sql\n",
    "-- RIGHT JOIN: returns all enrollments; if a student is missing, StudentName will be null (hypothetical case)\n",
    "SELECT e.EnrollmentID, s.StudentName, c.CourseName, e.EnrollmentDate\n",
    "FROM student_temp s\n",
    "RIGHT JOIN enrollment_temp e\n",
    "    ON s.StudentID = e.StudentID_FK\n",
    "RIGHT JOIN course_temp c\n",
    "    ON e.CourseID_FK = c.CourseID;\n"
   ]
  },
  {
   "cell_type": "code",
   "execution_count": 0,
   "metadata": {
    "application/vnd.databricks.v1+cell": {
     "cellMetadata": {
      "byteLimit": 2048000,
      "implicitDf": true,
      "rowLimit": 10000
     },
     "inputWidgets": {},
     "nuid": "fe01c5e4-f137-402d-9ae9-1fa36da51503",
     "showTitle": false,
     "tableResultSettingsMap": {},
     "title": ""
    }
   },
   "outputs": [],
   "source": [
    "%sql\n",
    "-- FULL OUTER JOIN: returns all students and all enrollments, matching where possible; unmatched rows from either side show null\n",
    "SELECT s.StudentName, e.EnrollmentID, e.EnrollmentDate\n",
    "FROM student_temp s\n",
    "FULL OUTER JOIN enrollment_temp e\n",
    "    ON s.StudentID = e.StudentID_FK;\n"
   ]
  },
  {
   "cell_type": "code",
   "execution_count": 0,
   "metadata": {
    "application/vnd.databricks.v1+cell": {
     "cellMetadata": {
      "byteLimit": 2048000,
      "implicitDf": true,
      "rowLimit": 10000
     },
     "inputWidgets": {},
     "nuid": "9a65495c-d0f1-424d-acba-73ad495bce7a",
     "showTitle": false,
     "tableResultSettingsMap": {},
     "title": ""
    }
   },
   "outputs": [],
   "source": [
    "%sql\n",
    "-- CROSS JOIN: every student paired with every course (Cartesian product)\n",
    "SELECT s.StudentName, c.CourseName\n",
    "FROM student_temp s\n",
    "CROSS JOIN course_temp c;\n"
   ]
  },
  {
   "cell_type": "code",
   "execution_count": 0,
   "metadata": {
    "application/vnd.databricks.v1+cell": {
     "cellMetadata": {
      "byteLimit": 2048000,
      "implicitDf": true,
      "rowLimit": 10000
     },
     "inputWidgets": {},
     "nuid": "1da90417-bb34-496b-94b1-be7fd1455fa0",
     "showTitle": false,
     "tableResultSettingsMap": {},
     "title": ""
    }
   },
   "outputs": [],
   "source": [
    "%sql\n",
    "-- LEFT SEMI JOIN: returns students who have at least one enrollment; only columns from left (student) are retained\n",
    "SELECT s.StudentID, s.StudentName, s.StudentAge\n",
    "FROM student_temp s\n",
    "WHERE EXISTS (\n",
    "    SELECT 1\n",
    "    FROM enrollment_temp e\n",
    "    WHERE s.StudentID = e.StudentID_FK\n",
    ");\n"
   ]
  },
  {
   "cell_type": "code",
   "execution_count": 0,
   "metadata": {
    "application/vnd.databricks.v1+cell": {
     "cellMetadata": {
      "byteLimit": 2048000,
      "implicitDf": true,
      "rowLimit": 10000
     },
     "inputWidgets": {},
     "nuid": "74d5570f-1f54-4e1f-bcce-c905cc5d5dc4",
     "showTitle": false,
     "tableResultSettingsMap": {},
     "title": ""
    }
   },
   "outputs": [],
   "source": [
    "%sql\n",
    "-- LEFT ANTI JOIN: returns students who are not enrolled in any course\n",
    "SELECT s.StudentID, s.StudentName, s.StudentAge\n",
    "FROM student_temp s\n",
    "WHERE NOT EXISTS (\n",
    "    SELECT 1\n",
    "    FROM enrollment_temp e\n",
    "    WHERE s.StudentID = e.StudentID_FK\n",
    ");"
   ]
  },
  {
   "cell_type": "code",
   "execution_count": 0,
   "metadata": {
    "application/vnd.databricks.v1+cell": {
     "cellMetadata": {
      "byteLimit": 2048000,
      "rowLimit": 10000
     },
     "inputWidgets": {},
     "nuid": "8f63a04b-25a0-4ae4-a859-03a4a20a15b1",
     "showTitle": false,
     "tableResultSettingsMap": {},
     "title": ""
    }
   },
   "outputs": [],
   "source": [
    "spark.catalog.dropTempView(\"student_temp\")\n",
    "spark.catalog.dropTempView(\"course_temp\")\n",
    "spark.catalog.dropTempView(\"enrollment_temp\")"
   ]
  }
 ],
 "metadata": {
  "application/vnd.databricks.v1+notebook": {
   "computePreferences": {
    "hardware": {
     "accelerator": null,
     "gpuPoolId": null,
     "memory": null
    }
   },
   "dashboards": [],
   "environmentMetadata": {
    "base_environment": "",
    "environment_version": "2"
   },
   "inputWidgetPreferences": null,
   "language": "python",
   "notebookMetadata": {
    "mostRecentlyExecutedCommandWithImplicitDF": {
     "commandId": 3223090135813926,
     "dataframes": [
      "_sqldf"
     ]
    },
    "pythonIndentUnit": 4
   },
   "notebookName": "11.2_sql_joins",
   "widgets": {}
  },
  "language_info": {
   "name": "python"
  }
 },
 "nbformat": 4,
 "nbformat_minor": 0
}
